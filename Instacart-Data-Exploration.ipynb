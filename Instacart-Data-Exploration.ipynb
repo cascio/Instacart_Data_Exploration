{
 "cells": [
  {
   "cell_type": "markdown",
   "metadata": {},
   "source": [
    "### Importing required packages"
   ]
  },
  {
   "cell_type": "code",
   "execution_count": 15,
   "metadata": {},
   "outputs": [],
   "source": [
    "import numpy as np\n",
    "import pandas as pd"
   ]
  },
  {
   "cell_type": "markdown",
   "metadata": {},
   "source": [
    "### Data Exploration"
   ]
  },
  {
   "cell_type": "markdown",
   "metadata": {},
   "source": [
    "#### What aisles are available?"
   ]
  },
  {
   "cell_type": "code",
   "execution_count": 13,
   "metadata": {},
   "outputs": [
    {
     "name": "stdout",
     "output_type": "stream",
     "text": [
      "(134, 2)\n"
     ]
    },
    {
     "data": {
      "text/plain": [
       "array(['prepared soups salads', 'specialty cheeses',\n",
       "       'energy granola bars', 'instant foods',\n",
       "       'marinades meat preparation', 'other', 'packaged meat',\n",
       "       'bakery desserts', 'pasta sauce', 'kitchen supplies',\n",
       "       'cold flu allergy', 'fresh pasta', 'prepared meals',\n",
       "       'tofu meat alternatives', 'packaged seafood', 'fresh herbs',\n",
       "       'baking ingredients', 'bulk dried fruits vegetables',\n",
       "       'oils vinegars', 'oral hygiene', 'packaged cheese', 'hair care',\n",
       "       'popcorn jerky', 'fresh fruits', 'soap', 'coffee', 'beers coolers',\n",
       "       'red wines', 'honeys syrups nectars', 'latino foods',\n",
       "       'refrigerated', 'packaged produce', 'kosher foods',\n",
       "       'frozen meat seafood', 'poultry counter', 'butter',\n",
       "       'ice cream ice', 'frozen meals', 'seafood counter',\n",
       "       'dog food care', 'cat food care', 'frozen vegan vegetarian',\n",
       "       'buns rolls', 'eye ear care', 'candy chocolate', 'mint gum',\n",
       "       'vitamins supplements', 'breakfast bars pastries',\n",
       "       'packaged poultry', 'fruit vegetable snacks',\n",
       "       'preserved dips spreads', 'frozen breakfast', 'cream',\n",
       "       'paper goods', 'shave needs', 'diapers wipes', 'granola',\n",
       "       'frozen breads doughs', 'canned meals beans', 'trash bags liners',\n",
       "       'cookies cakes', 'white wines', 'grains rice dried goods',\n",
       "       'energy sports drinks', 'protein meal replacements', 'asian foods',\n",
       "       'fresh dips tapenades', 'bulk grains rice dried goods',\n",
       "       'soup broth bouillon', 'digestion',\n",
       "       'refrigerated pudding desserts', 'condiments', 'facial care',\n",
       "       'dish detergents', 'laundry', 'indian foods', 'soft drinks',\n",
       "       'crackers', 'frozen pizza', 'deodorants',\n",
       "       'canned jarred vegetables', 'baby accessories', 'fresh vegetables',\n",
       "       'milk', 'food storage', 'eggs', 'more household', 'spreads',\n",
       "       'salad dressing toppings', 'cocoa drink mixes', 'soy lactosefree',\n",
       "       'baby food formula', 'breakfast bakery', 'tea',\n",
       "       'canned meat seafood', 'lunch meat', 'baking supplies decor',\n",
       "       'juice nectars', 'canned fruit applesauce', 'missing',\n",
       "       'air fresheners candles', 'baby bath body care',\n",
       "       'ice cream toppings', 'spices seasonings',\n",
       "       'doughs gelatins bake mixes', 'hot dogs bacon sausage',\n",
       "       'chips pretzels', 'other creams cheeses', 'skin care',\n",
       "       'pickled goods olives', 'plates bowls cups flatware', 'bread',\n",
       "       'frozen juice', 'cleaning products',\n",
       "       'water seltzer sparkling water', 'frozen produce',\n",
       "       'nuts seeds dried fruit', 'first aid', 'frozen dessert', 'yogurt',\n",
       "       'cereal', 'meat counter', 'packaged vegetables fruits', 'spirits',\n",
       "       'trail mix snack mix', 'feminine care', 'body lotions soap',\n",
       "       'tortillas flat bread', 'frozen appetizers sides',\n",
       "       'hot cereal pancake mixes', 'dry pasta', 'beauty',\n",
       "       'muscles joints pain relief', 'specialty wines champagnes'],\n",
       "      dtype=object)"
      ]
     },
     "execution_count": 13,
     "metadata": {},
     "output_type": "execute_result"
    }
   ],
   "source": [
    "aisles = pd.read_csv('aisles.csv')\n",
    "print(aisles.shape)\n",
    "aisles['aisle'].unique()"
   ]
  },
  {
   "cell_type": "markdown",
   "metadata": {},
   "source": [
    "#### 'Dog Food Care' looks relevant:"
   ]
  },
  {
   "cell_type": "code",
   "execution_count": 63,
   "metadata": {},
   "outputs": [
    {
     "name": "stdout",
     "output_type": "stream",
     "text": [
      "    aisle_id          aisle\n",
      "39        40  dog food care\n",
      "\n",
      "Dog Food Care Aisle ID = 40\n"
     ]
    }
   ],
   "source": [
    "dog_aisle_id = aisles[aisles['aisle']=='dog food care']['aisle_id'].values[0]\n",
    "print(aisles[aisles['aisle']=='dog food care'], end='\\n\\n')\n",
    "print(f'Dog Food Care Aisle ID = {dog_aisle_id}')"
   ]
  },
  {
   "cell_type": "markdown",
   "metadata": {},
   "source": [
    "#### What departments are available?"
   ]
  },
  {
   "cell_type": "code",
   "execution_count": 11,
   "metadata": {},
   "outputs": [
    {
     "name": "stdout",
     "output_type": "stream",
     "text": [
      "(21, 2)\n"
     ]
    },
    {
     "data": {
      "text/plain": [
       "array(['frozen', 'other', 'bakery', 'produce', 'alcohol', 'international',\n",
       "       'beverages', 'pets', 'dry goods pasta', 'bulk', 'personal care',\n",
       "       'meat seafood', 'pantry', 'breakfast', 'canned goods',\n",
       "       'dairy eggs', 'household', 'babies', 'snacks', 'deli', 'missing'],\n",
       "      dtype=object)"
      ]
     },
     "execution_count": 11,
     "metadata": {},
     "output_type": "execute_result"
    }
   ],
   "source": [
    "departments = pd.read_csv('departments.csv')\n",
    "print(departments.shape)\n",
    "departments['department'].unique()"
   ]
  },
  {
   "cell_type": "markdown",
   "metadata": {},
   "source": [
    "#### 'Pets' looks relevant:"
   ]
  },
  {
   "cell_type": "code",
   "execution_count": 53,
   "metadata": {},
   "outputs": [
    {
     "name": "stdout",
     "output_type": "stream",
     "text": [
      "   department_id department\n",
      "7              8       pets\n",
      "\n",
      "Pets Department ID = 8\n"
     ]
    }
   ],
   "source": [
    "pets_dept_id = departments[departments['department']=='pets']['department_id'].values[0]\n",
    "print(departments[departments['department']=='pets'], end='\\n\\n')\n",
    "print(f'Pets Department ID = {pets_dept_id}')"
   ]
  },
  {
   "cell_type": "markdown",
   "metadata": {},
   "source": [
    "#### What products are available? "
   ]
  },
  {
   "cell_type": "code",
   "execution_count": 4,
   "metadata": {
    "scrolled": true
   },
   "outputs": [
    {
     "name": "stdout",
     "output_type": "stream",
     "text": [
      "(49688, 4)\n"
     ]
    },
    {
     "data": {
      "text/html": [
       "<div>\n",
       "<style scoped>\n",
       "    .dataframe tbody tr th:only-of-type {\n",
       "        vertical-align: middle;\n",
       "    }\n",
       "\n",
       "    .dataframe tbody tr th {\n",
       "        vertical-align: top;\n",
       "    }\n",
       "\n",
       "    .dataframe thead th {\n",
       "        text-align: right;\n",
       "    }\n",
       "</style>\n",
       "<table border=\"1\" class=\"dataframe\">\n",
       "  <thead>\n",
       "    <tr style=\"text-align: right;\">\n",
       "      <th></th>\n",
       "      <th>product_id</th>\n",
       "      <th>product_name</th>\n",
       "      <th>aisle_id</th>\n",
       "      <th>department_id</th>\n",
       "    </tr>\n",
       "  </thead>\n",
       "  <tbody>\n",
       "    <tr>\n",
       "      <th>0</th>\n",
       "      <td>1</td>\n",
       "      <td>Chocolate Sandwich Cookies</td>\n",
       "      <td>61</td>\n",
       "      <td>19</td>\n",
       "    </tr>\n",
       "    <tr>\n",
       "      <th>1</th>\n",
       "      <td>2</td>\n",
       "      <td>All-Seasons Salt</td>\n",
       "      <td>104</td>\n",
       "      <td>13</td>\n",
       "    </tr>\n",
       "    <tr>\n",
       "      <th>2</th>\n",
       "      <td>3</td>\n",
       "      <td>Robust Golden Unsweetened Oolong Tea</td>\n",
       "      <td>94</td>\n",
       "      <td>7</td>\n",
       "    </tr>\n",
       "    <tr>\n",
       "      <th>3</th>\n",
       "      <td>4</td>\n",
       "      <td>Smart Ones Classic Favorites Mini Rigatoni Wit...</td>\n",
       "      <td>38</td>\n",
       "      <td>1</td>\n",
       "    </tr>\n",
       "    <tr>\n",
       "      <th>4</th>\n",
       "      <td>5</td>\n",
       "      <td>Green Chile Anytime Sauce</td>\n",
       "      <td>5</td>\n",
       "      <td>13</td>\n",
       "    </tr>\n",
       "  </tbody>\n",
       "</table>\n",
       "</div>"
      ],
      "text/plain": [
       "   product_id                                       product_name  aisle_id  \\\n",
       "0           1                         Chocolate Sandwich Cookies        61   \n",
       "1           2                                   All-Seasons Salt       104   \n",
       "2           3               Robust Golden Unsweetened Oolong Tea        94   \n",
       "3           4  Smart Ones Classic Favorites Mini Rigatoni Wit...        38   \n",
       "4           5                          Green Chile Anytime Sauce         5   \n",
       "\n",
       "   department_id  \n",
       "0             19  \n",
       "1             13  \n",
       "2              7  \n",
       "3              1  \n",
       "4             13  "
      ]
     },
     "execution_count": 4,
     "metadata": {},
     "output_type": "execute_result"
    }
   ],
   "source": [
    "products = pd.read_csv('products.csv')\n",
    "print(products.shape)\n",
    "products.head()"
   ]
  },
  {
   "cell_type": "markdown",
   "metadata": {},
   "source": [
    "#### What/how many products are available in the Pets department?"
   ]
  },
  {
   "cell_type": "code",
   "execution_count": 72,
   "metadata": {},
   "outputs": [
    {
     "name": "stdout",
     "output_type": "stream",
     "text": [
      "There are 972 products in the Pets department\n"
     ]
    },
    {
     "data": {
      "text/html": [
       "<div>\n",
       "<style scoped>\n",
       "    .dataframe tbody tr th:only-of-type {\n",
       "        vertical-align: middle;\n",
       "    }\n",
       "\n",
       "    .dataframe tbody tr th {\n",
       "        vertical-align: top;\n",
       "    }\n",
       "\n",
       "    .dataframe thead th {\n",
       "        text-align: right;\n",
       "    }\n",
       "</style>\n",
       "<table border=\"1\" class=\"dataframe\">\n",
       "  <thead>\n",
       "    <tr style=\"text-align: right;\">\n",
       "      <th></th>\n",
       "      <th>product_id</th>\n",
       "      <th>product_name</th>\n",
       "      <th>aisle_id</th>\n",
       "      <th>department_id</th>\n",
       "    </tr>\n",
       "  </thead>\n",
       "  <tbody>\n",
       "    <tr>\n",
       "      <th>20</th>\n",
       "      <td>21</td>\n",
       "      <td>Small &amp; Medium Dental Dog Treats</td>\n",
       "      <td>40</td>\n",
       "      <td>8</td>\n",
       "    </tr>\n",
       "    <tr>\n",
       "      <th>25</th>\n",
       "      <td>26</td>\n",
       "      <td>Fancy Feast Trout Feast Flaked Wet Cat Food</td>\n",
       "      <td>41</td>\n",
       "      <td>8</td>\n",
       "    </tr>\n",
       "    <tr>\n",
       "      <th>53</th>\n",
       "      <td>54</td>\n",
       "      <td>24/7 Performance Cat Litter</td>\n",
       "      <td>41</td>\n",
       "      <td>8</td>\n",
       "    </tr>\n",
       "    <tr>\n",
       "      <th>91</th>\n",
       "      <td>92</td>\n",
       "      <td>Meat In The Middle Large Rawhide Chews</td>\n",
       "      <td>40</td>\n",
       "      <td>8</td>\n",
       "    </tr>\n",
       "    <tr>\n",
       "      <th>235</th>\n",
       "      <td>236</td>\n",
       "      <td>Chicken Meatballs Dog Treats</td>\n",
       "      <td>40</td>\n",
       "      <td>8</td>\n",
       "    </tr>\n",
       "  </tbody>\n",
       "</table>\n",
       "</div>"
      ],
      "text/plain": [
       "     product_id                                 product_name  aisle_id  \\\n",
       "20           21             Small & Medium Dental Dog Treats        40   \n",
       "25           26  Fancy Feast Trout Feast Flaked Wet Cat Food        41   \n",
       "53           54                  24/7 Performance Cat Litter        41   \n",
       "91           92       Meat In The Middle Large Rawhide Chews        40   \n",
       "235         236                 Chicken Meatballs Dog Treats        40   \n",
       "\n",
       "     department_id  \n",
       "20               8  \n",
       "25               8  \n",
       "53               8  \n",
       "91               8  \n",
       "235              8  "
      ]
     },
     "execution_count": 72,
     "metadata": {},
     "output_type": "execute_result"
    }
   ],
   "source": [
    "n_pets_dept_products = products[products['department_id']==pets_dept_id].shape[0]\n",
    "pet_dept_products = products[products['department_id']==pets_dept_id]\n",
    "print(f'There are {n_pets_dept_products} products in the Pets department')\n",
    "pet_dept_products.head()"
   ]
  },
  {
   "cell_type": "markdown",
   "metadata": {},
   "source": [
    "#### What/how many products are available in the Dog Food Care aisle?"
   ]
  },
  {
   "cell_type": "code",
   "execution_count": 76,
   "metadata": {
    "scrolled": true
   },
   "outputs": [
    {
     "name": "stdout",
     "output_type": "stream",
     "text": [
      "There are 473 products in the Dog Food Care aisle\n"
     ]
    },
    {
     "data": {
      "text/html": [
       "<div>\n",
       "<style scoped>\n",
       "    .dataframe tbody tr th:only-of-type {\n",
       "        vertical-align: middle;\n",
       "    }\n",
       "\n",
       "    .dataframe tbody tr th {\n",
       "        vertical-align: top;\n",
       "    }\n",
       "\n",
       "    .dataframe thead th {\n",
       "        text-align: right;\n",
       "    }\n",
       "</style>\n",
       "<table border=\"1\" class=\"dataframe\">\n",
       "  <thead>\n",
       "    <tr style=\"text-align: right;\">\n",
       "      <th></th>\n",
       "      <th>product_id</th>\n",
       "      <th>product_name</th>\n",
       "      <th>aisle_id</th>\n",
       "      <th>department_id</th>\n",
       "    </tr>\n",
       "  </thead>\n",
       "  <tbody>\n",
       "    <tr>\n",
       "      <th>20</th>\n",
       "      <td>21</td>\n",
       "      <td>Small &amp; Medium Dental Dog Treats</td>\n",
       "      <td>40</td>\n",
       "      <td>8</td>\n",
       "    </tr>\n",
       "    <tr>\n",
       "      <th>91</th>\n",
       "      <td>92</td>\n",
       "      <td>Meat In The Middle Large Rawhide Chews</td>\n",
       "      <td>40</td>\n",
       "      <td>8</td>\n",
       "    </tr>\n",
       "    <tr>\n",
       "      <th>235</th>\n",
       "      <td>236</td>\n",
       "      <td>Chicken Meatballs Dog Treats</td>\n",
       "      <td>40</td>\n",
       "      <td>8</td>\n",
       "    </tr>\n",
       "    <tr>\n",
       "      <th>281</th>\n",
       "      <td>282</td>\n",
       "      <td>Oh My Cod! Cod Pate and Vegetables Cat Food</td>\n",
       "      <td>40</td>\n",
       "      <td>8</td>\n",
       "    </tr>\n",
       "    <tr>\n",
       "      <th>301</th>\n",
       "      <td>302</td>\n",
       "      <td>Gourmet Dog Treats Bone</td>\n",
       "      <td>40</td>\n",
       "      <td>8</td>\n",
       "    </tr>\n",
       "  </tbody>\n",
       "</table>\n",
       "</div>"
      ],
      "text/plain": [
       "     product_id                                 product_name  aisle_id  \\\n",
       "20           21             Small & Medium Dental Dog Treats        40   \n",
       "91           92       Meat In The Middle Large Rawhide Chews        40   \n",
       "235         236                 Chicken Meatballs Dog Treats        40   \n",
       "281         282  Oh My Cod! Cod Pate and Vegetables Cat Food        40   \n",
       "301         302                      Gourmet Dog Treats Bone        40   \n",
       "\n",
       "     department_id  \n",
       "20               8  \n",
       "91               8  \n",
       "235              8  \n",
       "281              8  \n",
       "301              8  "
      ]
     },
     "execution_count": 76,
     "metadata": {},
     "output_type": "execute_result"
    }
   ],
   "source": [
    "n_dog_aisle_products = products[products['aisle_id']==dog_aisle_id].shape[0]\n",
    "dog_aisle_products = products[products['aisle_id']==dog_aisle_id]\n",
    "print(f'There are {n_dog_aisle_products} products in the Dog Food Care aisle')\n",
    "dog_aisle_products.head()"
   ]
  },
  {
   "cell_type": "markdown",
   "metadata": {},
   "source": [
    "#### Are all of the items in the Dog Food Care aisle in the Pets department? Yes, the empty set that was returned confirmed that."
   ]
  },
  {
   "cell_type": "code",
   "execution_count": 89,
   "metadata": {},
   "outputs": [
    {
     "data": {
      "text/plain": [
       "set()"
      ]
     },
     "execution_count": 89,
     "metadata": {},
     "output_type": "execute_result"
    }
   ],
   "source": [
    "dap = set(dog_aisle_products['product_name'])\n",
    "pdp = set(pet_dept_products['product_name'])\n",
    "delta = dap - pdp\n",
    "delta"
   ]
  },
  {
   "cell_type": "markdown",
   "metadata": {},
   "source": [
    "#### Sample order data:"
   ]
  },
  {
   "cell_type": "code",
   "execution_count": 19,
   "metadata": {},
   "outputs": [
    {
     "name": "stdout",
     "output_type": "stream",
     "text": [
      "(3421083, 7)\n"
     ]
    },
    {
     "data": {
      "text/html": [
       "<div>\n",
       "<style scoped>\n",
       "    .dataframe tbody tr th:only-of-type {\n",
       "        vertical-align: middle;\n",
       "    }\n",
       "\n",
       "    .dataframe tbody tr th {\n",
       "        vertical-align: top;\n",
       "    }\n",
       "\n",
       "    .dataframe thead th {\n",
       "        text-align: right;\n",
       "    }\n",
       "</style>\n",
       "<table border=\"1\" class=\"dataframe\">\n",
       "  <thead>\n",
       "    <tr style=\"text-align: right;\">\n",
       "      <th></th>\n",
       "      <th>order_id</th>\n",
       "      <th>user_id</th>\n",
       "      <th>eval_set</th>\n",
       "      <th>order_number</th>\n",
       "      <th>order_dow</th>\n",
       "      <th>order_hour_of_day</th>\n",
       "      <th>days_since_prior_order</th>\n",
       "    </tr>\n",
       "  </thead>\n",
       "  <tbody>\n",
       "    <tr>\n",
       "      <th>0</th>\n",
       "      <td>2539329</td>\n",
       "      <td>1</td>\n",
       "      <td>prior</td>\n",
       "      <td>1</td>\n",
       "      <td>2</td>\n",
       "      <td>8</td>\n",
       "      <td>NaN</td>\n",
       "    </tr>\n",
       "    <tr>\n",
       "      <th>1</th>\n",
       "      <td>2398795</td>\n",
       "      <td>1</td>\n",
       "      <td>prior</td>\n",
       "      <td>2</td>\n",
       "      <td>3</td>\n",
       "      <td>7</td>\n",
       "      <td>15.0</td>\n",
       "    </tr>\n",
       "    <tr>\n",
       "      <th>2</th>\n",
       "      <td>473747</td>\n",
       "      <td>1</td>\n",
       "      <td>prior</td>\n",
       "      <td>3</td>\n",
       "      <td>3</td>\n",
       "      <td>12</td>\n",
       "      <td>21.0</td>\n",
       "    </tr>\n",
       "    <tr>\n",
       "      <th>3</th>\n",
       "      <td>2254736</td>\n",
       "      <td>1</td>\n",
       "      <td>prior</td>\n",
       "      <td>4</td>\n",
       "      <td>4</td>\n",
       "      <td>7</td>\n",
       "      <td>29.0</td>\n",
       "    </tr>\n",
       "    <tr>\n",
       "      <th>4</th>\n",
       "      <td>431534</td>\n",
       "      <td>1</td>\n",
       "      <td>prior</td>\n",
       "      <td>5</td>\n",
       "      <td>4</td>\n",
       "      <td>15</td>\n",
       "      <td>28.0</td>\n",
       "    </tr>\n",
       "  </tbody>\n",
       "</table>\n",
       "</div>"
      ],
      "text/plain": [
       "   order_id  user_id eval_set  order_number  order_dow  order_hour_of_day  \\\n",
       "0   2539329        1    prior             1          2                  8   \n",
       "1   2398795        1    prior             2          3                  7   \n",
       "2    473747        1    prior             3          3                 12   \n",
       "3   2254736        1    prior             4          4                  7   \n",
       "4    431534        1    prior             5          4                 15   \n",
       "\n",
       "   days_since_prior_order  \n",
       "0                     NaN  \n",
       "1                    15.0  \n",
       "2                    21.0  \n",
       "3                    29.0  \n",
       "4                    28.0  "
      ]
     },
     "execution_count": 19,
     "metadata": {},
     "output_type": "execute_result"
    }
   ],
   "source": [
    "orders = pd.read_csv('orders.csv')\n",
    "print(orders.shape)\n",
    "orders.head()"
   ]
  },
  {
   "cell_type": "code",
   "execution_count": 6,
   "metadata": {},
   "outputs": [
    {
     "name": "stdout",
     "output_type": "stream",
     "text": [
      "(32434489, 4)\n"
     ]
    },
    {
     "data": {
      "text/html": [
       "<div>\n",
       "<style scoped>\n",
       "    .dataframe tbody tr th:only-of-type {\n",
       "        vertical-align: middle;\n",
       "    }\n",
       "\n",
       "    .dataframe tbody tr th {\n",
       "        vertical-align: top;\n",
       "    }\n",
       "\n",
       "    .dataframe thead th {\n",
       "        text-align: right;\n",
       "    }\n",
       "</style>\n",
       "<table border=\"1\" class=\"dataframe\">\n",
       "  <thead>\n",
       "    <tr style=\"text-align: right;\">\n",
       "      <th></th>\n",
       "      <th>order_id</th>\n",
       "      <th>product_id</th>\n",
       "      <th>add_to_cart_order</th>\n",
       "      <th>reordered</th>\n",
       "    </tr>\n",
       "  </thead>\n",
       "  <tbody>\n",
       "    <tr>\n",
       "      <th>0</th>\n",
       "      <td>2</td>\n",
       "      <td>33120</td>\n",
       "      <td>1</td>\n",
       "      <td>1</td>\n",
       "    </tr>\n",
       "    <tr>\n",
       "      <th>1</th>\n",
       "      <td>2</td>\n",
       "      <td>28985</td>\n",
       "      <td>2</td>\n",
       "      <td>1</td>\n",
       "    </tr>\n",
       "    <tr>\n",
       "      <th>2</th>\n",
       "      <td>2</td>\n",
       "      <td>9327</td>\n",
       "      <td>3</td>\n",
       "      <td>0</td>\n",
       "    </tr>\n",
       "    <tr>\n",
       "      <th>3</th>\n",
       "      <td>2</td>\n",
       "      <td>45918</td>\n",
       "      <td>4</td>\n",
       "      <td>1</td>\n",
       "    </tr>\n",
       "    <tr>\n",
       "      <th>4</th>\n",
       "      <td>2</td>\n",
       "      <td>30035</td>\n",
       "      <td>5</td>\n",
       "      <td>0</td>\n",
       "    </tr>\n",
       "  </tbody>\n",
       "</table>\n",
       "</div>"
      ],
      "text/plain": [
       "   order_id  product_id  add_to_cart_order  reordered\n",
       "0         2       33120                  1          1\n",
       "1         2       28985                  2          1\n",
       "2         2        9327                  3          0\n",
       "3         2       45918                  4          1\n",
       "4         2       30035                  5          0"
      ]
     },
     "execution_count": 6,
     "metadata": {},
     "output_type": "execute_result"
    }
   ],
   "source": [
    "orders_prior = pd.read_csv('order_products__prior.csv')\n",
    "print(orders_prior.shape)\n",
    "orders_prior.head()"
   ]
  },
  {
   "cell_type": "code",
   "execution_count": 7,
   "metadata": {
    "scrolled": true
   },
   "outputs": [
    {
     "name": "stdout",
     "output_type": "stream",
     "text": [
      "(1384617, 4)\n"
     ]
    },
    {
     "data": {
      "text/html": [
       "<div>\n",
       "<style scoped>\n",
       "    .dataframe tbody tr th:only-of-type {\n",
       "        vertical-align: middle;\n",
       "    }\n",
       "\n",
       "    .dataframe tbody tr th {\n",
       "        vertical-align: top;\n",
       "    }\n",
       "\n",
       "    .dataframe thead th {\n",
       "        text-align: right;\n",
       "    }\n",
       "</style>\n",
       "<table border=\"1\" class=\"dataframe\">\n",
       "  <thead>\n",
       "    <tr style=\"text-align: right;\">\n",
       "      <th></th>\n",
       "      <th>order_id</th>\n",
       "      <th>product_id</th>\n",
       "      <th>add_to_cart_order</th>\n",
       "      <th>reordered</th>\n",
       "    </tr>\n",
       "  </thead>\n",
       "  <tbody>\n",
       "    <tr>\n",
       "      <th>0</th>\n",
       "      <td>1</td>\n",
       "      <td>49302</td>\n",
       "      <td>1</td>\n",
       "      <td>1</td>\n",
       "    </tr>\n",
       "    <tr>\n",
       "      <th>1</th>\n",
       "      <td>1</td>\n",
       "      <td>11109</td>\n",
       "      <td>2</td>\n",
       "      <td>1</td>\n",
       "    </tr>\n",
       "    <tr>\n",
       "      <th>2</th>\n",
       "      <td>1</td>\n",
       "      <td>10246</td>\n",
       "      <td>3</td>\n",
       "      <td>0</td>\n",
       "    </tr>\n",
       "    <tr>\n",
       "      <th>3</th>\n",
       "      <td>1</td>\n",
       "      <td>49683</td>\n",
       "      <td>4</td>\n",
       "      <td>0</td>\n",
       "    </tr>\n",
       "    <tr>\n",
       "      <th>4</th>\n",
       "      <td>1</td>\n",
       "      <td>43633</td>\n",
       "      <td>5</td>\n",
       "      <td>1</td>\n",
       "    </tr>\n",
       "  </tbody>\n",
       "</table>\n",
       "</div>"
      ],
      "text/plain": [
       "   order_id  product_id  add_to_cart_order  reordered\n",
       "0         1       49302                  1          1\n",
       "1         1       11109                  2          1\n",
       "2         1       10246                  3          0\n",
       "3         1       49683                  4          0\n",
       "4         1       43633                  5          1"
      ]
     },
     "execution_count": 7,
     "metadata": {},
     "output_type": "execute_result"
    }
   ],
   "source": [
    "orders_train = pd.read_csv('order_products__train.csv')\n",
    "print(orders_train.shape)\n",
    "orders_train.head()"
   ]
  },
  {
   "cell_type": "markdown",
   "metadata": {},
   "source": [
    "#### Concatenate order_products__ DataFrames for exploration"
   ]
  },
  {
   "cell_type": "code",
   "execution_count": 91,
   "metadata": {},
   "outputs": [
    {
     "data": {
      "text/plain": [
       "(33819106, 4)"
      ]
     },
     "execution_count": 91,
     "metadata": {},
     "output_type": "execute_result"
    }
   ],
   "source": [
    "orders_product_all = pd.concat([orders_prior, orders_train])\n",
    "orders_product_all.shape"
   ]
  },
  {
   "cell_type": "markdown",
   "metadata": {},
   "source": [
    "#### How many 'Pets' department products were ordered in the Instacart dataset?"
   ]
  },
  {
   "cell_type": "code",
   "execution_count": 115,
   "metadata": {},
   "outputs": [
    {
     "name": "stdout",
     "output_type": "stream",
     "text": [
      "102221 \"Pets\" department products were ordered in the Instacart dataset\n"
     ]
    }
   ],
   "source": [
    "pets_orders = orders_product_all[orders_product_all['product_id'].isin(pet_dept_products['product_id'])]\n",
    "print(f'{len(pets_orders)} \"Pets\" department products were ordered in the Instacart dataset')"
   ]
  },
  {
   "cell_type": "markdown",
   "metadata": {},
   "source": [
    "#### What is the percentage of products sold in the dataset that were 'Pets' department related?"
   ]
  },
  {
   "cell_type": "code",
   "execution_count": 116,
   "metadata": {},
   "outputs": [
    {
     "name": "stdout",
     "output_type": "stream",
     "text": [
      "0.302% percent of the products sold within the Instacart dataset were \"Pets\" department products\n"
     ]
    }
   ],
   "source": [
    "percent_pet_products = len(pets_orders) / len(orders_product_all)\n",
    "percent_pet_products = percent_pet_products * 100\n",
    "print(f'{percent_pet_products:.3f}% percent of the products sold within the Instacart dataset were \"Pets\" department products')"
   ]
  },
  {
   "cell_type": "markdown",
   "metadata": {},
   "source": [
    "#### How many Dog Food Care products were ordered in the Instacart dataset?"
   ]
  },
  {
   "cell_type": "code",
   "execution_count": 100,
   "metadata": {},
   "outputs": [
    {
     "name": "stdout",
     "output_type": "stream",
     "text": [
      "35915 Dog Food Care products were ordered in the Instacart dataset\n"
     ]
    }
   ],
   "source": [
    "dog_orders = orders_product_all[orders_product_all['product_id'].isin(dog_aisle_products['product_id'])]\n",
    "print(f'{len(dog_orders)} Dog Food Care products were ordered in the Instacart dataset')"
   ]
  },
  {
   "cell_type": "markdown",
   "metadata": {},
   "source": [
    "#### What is the percentage of products sold in the dataset that were Dog Food Care related?"
   ]
  },
  {
   "cell_type": "code",
   "execution_count": 111,
   "metadata": {},
   "outputs": [
    {
     "name": "stdout",
     "output_type": "stream",
     "text": [
      "0.106% percent of the products sold within the Instacart dataset were Dog Food Care products\n"
     ]
    }
   ],
   "source": [
    "percent_dog_products = len(dog_orders) / len(orders_product_all)\n",
    "percent_dog_products = percent_dog_products * 100\n",
    "print(f'{percent_dog_products:.3f}% percent of the products sold within the Instacart dataset were Dog Food Care products')"
   ]
  },
  {
   "cell_type": "markdown",
   "metadata": {},
   "source": [
    "#### How many unique orders for Dog Food Care products were placed?"
   ]
  },
  {
   "cell_type": "code",
   "execution_count": 303,
   "metadata": {},
   "outputs": [
    {
     "name": "stdout",
     "output_type": "stream",
     "text": [
      "27142 unique orders were made to purchase the 35915 Dog Food Care products in the Instacart dataset\n"
     ]
    }
   ],
   "source": [
    "unique_dog_orders = len(dog_orders['order_id'].unique())\n",
    "print(f'{unique_dog_orders} unique orders were made to purchase the {len(dog_orders)} Dog Food Care products in the Instacart dataset')"
   ]
  },
  {
   "cell_type": "markdown",
   "metadata": {},
   "source": [
    "#### How many Dog Food Products were re-ordered?"
   ]
  },
  {
   "cell_type": "code",
   "execution_count": 304,
   "metadata": {},
   "outputs": [
    {
     "name": "stdout",
     "output_type": "stream",
     "text": [
      "20335 of the Dog Food Care products purchased were reorders\n"
     ]
    }
   ],
   "source": [
    "dog_food_product_reorders = dog_orders[dog_orders['reordered']==1]\n",
    "print(f'{len(dog_food_product_reorders)} of the Dog Food Care products purchased were reorders')"
   ]
  },
  {
   "cell_type": "markdown",
   "metadata": {},
   "source": [
    "#### Dog Food Product re-order rate:"
   ]
  },
  {
   "cell_type": "code",
   "execution_count": 305,
   "metadata": {},
   "outputs": [
    {
     "name": "stdout",
     "output_type": "stream",
     "text": [
      " 56.62% of Dog Food Care products ordered were re-orders\n"
     ]
    }
   ],
   "source": [
    "percent_dog_food_reorder = len(dog_food_product_reorders) / len(dog_orders)\n",
    "percent_dog_food_reorder = percent_dog_food_reorder * 100\n",
    "print(f'{percent_dog_food_reorder: .2f}% of Dog Food Care products ordered were re-orders')"
   ]
  },
  {
   "cell_type": "markdown",
   "metadata": {},
   "source": [
    "#### What is the distribution of products sold across all aisles?"
   ]
  },
  {
   "cell_type": "code",
   "execution_count": 306,
   "metadata": {
    "scrolled": true
   },
   "outputs": [
    {
     "ename": "KeyboardInterrupt",
     "evalue": "",
     "output_type": "error",
     "traceback": [
      "\u001b[0;31m---------------------------------------------------------------------------\u001b[0m",
      "\u001b[0;31mKeyboardInterrupt\u001b[0m                         Traceback (most recent call last)",
      "\u001b[0;32m<ipython-input-306-f25bea1df551>\u001b[0m in \u001b[0;36m<module>\u001b[0;34m\u001b[0m\n\u001b[1;32m      6\u001b[0m     \u001b[0maisle_id\u001b[0m \u001b[0;34m=\u001b[0m \u001b[0maisles\u001b[0m\u001b[0;34m[\u001b[0m\u001b[0maisles\u001b[0m\u001b[0;34m[\u001b[0m\u001b[0;34m'aisle'\u001b[0m\u001b[0;34m]\u001b[0m\u001b[0;34m==\u001b[0m\u001b[0maisle_name\u001b[0m\u001b[0;34m]\u001b[0m\u001b[0;34m[\u001b[0m\u001b[0;34m'aisle_id'\u001b[0m\u001b[0;34m]\u001b[0m\u001b[0;34m.\u001b[0m\u001b[0mvalues\u001b[0m\u001b[0;34m[\u001b[0m\u001b[0;36m0\u001b[0m\u001b[0;34m]\u001b[0m\u001b[0;34m\u001b[0m\u001b[0;34m\u001b[0m\u001b[0m\n\u001b[1;32m      7\u001b[0m     \u001b[0maisle_products\u001b[0m \u001b[0;34m=\u001b[0m \u001b[0mproducts\u001b[0m\u001b[0;34m[\u001b[0m\u001b[0mproducts\u001b[0m\u001b[0;34m[\u001b[0m\u001b[0;34m'aisle_id'\u001b[0m\u001b[0;34m]\u001b[0m\u001b[0;34m==\u001b[0m\u001b[0maisle_id\u001b[0m\u001b[0;34m]\u001b[0m\u001b[0;34m\u001b[0m\u001b[0;34m\u001b[0m\u001b[0m\n\u001b[0;32m----> 8\u001b[0;31m     \u001b[0maisle_orders\u001b[0m \u001b[0;34m=\u001b[0m \u001b[0morders_product_all\u001b[0m\u001b[0;34m[\u001b[0m\u001b[0morders_product_all\u001b[0m\u001b[0;34m[\u001b[0m\u001b[0;34m'product_id'\u001b[0m\u001b[0;34m]\u001b[0m\u001b[0;34m.\u001b[0m\u001b[0misin\u001b[0m\u001b[0;34m(\u001b[0m\u001b[0maisle_products\u001b[0m\u001b[0;34m[\u001b[0m\u001b[0;34m'product_id'\u001b[0m\u001b[0;34m]\u001b[0m\u001b[0;34m)\u001b[0m\u001b[0;34m]\u001b[0m\u001b[0;34m\u001b[0m\u001b[0;34m\u001b[0m\u001b[0m\n\u001b[0m\u001b[1;32m      9\u001b[0m     \u001b[0mpercent_order\u001b[0m \u001b[0;34m=\u001b[0m \u001b[0mround\u001b[0m\u001b[0;34m(\u001b[0m\u001b[0;34m(\u001b[0m\u001b[0mlen\u001b[0m\u001b[0;34m(\u001b[0m\u001b[0maisle_orders\u001b[0m\u001b[0;34m)\u001b[0m \u001b[0;34m/\u001b[0m \u001b[0mlen\u001b[0m\u001b[0;34m(\u001b[0m\u001b[0morders_product_all\u001b[0m\u001b[0;34m)\u001b[0m\u001b[0;34m)\u001b[0m \u001b[0;34m*\u001b[0m \u001b[0;36m100\u001b[0m\u001b[0;34m,\u001b[0m \u001b[0;36m2\u001b[0m\u001b[0;34m)\u001b[0m\u001b[0;34m\u001b[0m\u001b[0;34m\u001b[0m\u001b[0m\n\u001b[1;32m     10\u001b[0m     \u001b[0maisle_percent_order\u001b[0m\u001b[0;34m[\u001b[0m\u001b[0maisle_name\u001b[0m\u001b[0;34m]\u001b[0m \u001b[0;34m=\u001b[0m \u001b[0mpercent_order\u001b[0m\u001b[0;34m\u001b[0m\u001b[0;34m\u001b[0m\u001b[0m\n",
      "\u001b[0;32m~/.pyenv/versions/3.7.2/envs/data-tools/lib/python3.7/site-packages/pandas/core/series.py\u001b[0m in \u001b[0;36misin\u001b[0;34m(self, values)\u001b[0m\n\u001b[1;32m   4001\u001b[0m         \u001b[0mName\u001b[0m\u001b[0;34m:\u001b[0m \u001b[0manimal\u001b[0m\u001b[0;34m,\u001b[0m \u001b[0mdtype\u001b[0m\u001b[0;34m:\u001b[0m \u001b[0mbool\u001b[0m\u001b[0;34m\u001b[0m\u001b[0;34m\u001b[0m\u001b[0m\n\u001b[1;32m   4002\u001b[0m         \"\"\"\n\u001b[0;32m-> 4003\u001b[0;31m         \u001b[0mresult\u001b[0m \u001b[0;34m=\u001b[0m \u001b[0malgorithms\u001b[0m\u001b[0;34m.\u001b[0m\u001b[0misin\u001b[0m\u001b[0;34m(\u001b[0m\u001b[0mself\u001b[0m\u001b[0;34m,\u001b[0m \u001b[0mvalues\u001b[0m\u001b[0;34m)\u001b[0m\u001b[0;34m\u001b[0m\u001b[0;34m\u001b[0m\u001b[0m\n\u001b[0m\u001b[1;32m   4004\u001b[0m         \u001b[0;32mreturn\u001b[0m \u001b[0mself\u001b[0m\u001b[0;34m.\u001b[0m\u001b[0m_constructor\u001b[0m\u001b[0;34m(\u001b[0m\u001b[0mresult\u001b[0m\u001b[0;34m,\u001b[0m \u001b[0mindex\u001b[0m\u001b[0;34m=\u001b[0m\u001b[0mself\u001b[0m\u001b[0;34m.\u001b[0m\u001b[0mindex\u001b[0m\u001b[0;34m)\u001b[0m\u001b[0;34m.\u001b[0m\u001b[0m__finalize__\u001b[0m\u001b[0;34m(\u001b[0m\u001b[0mself\u001b[0m\u001b[0;34m)\u001b[0m\u001b[0;34m\u001b[0m\u001b[0;34m\u001b[0m\u001b[0m\n\u001b[1;32m   4005\u001b[0m \u001b[0;34m\u001b[0m\u001b[0m\n",
      "\u001b[0;32m~/.pyenv/versions/3.7.2/envs/data-tools/lib/python3.7/site-packages/pandas/core/algorithms.py\u001b[0m in \u001b[0;36misin\u001b[0;34m(comps, values)\u001b[0m\n\u001b[1;32m    429\u001b[0m             \u001b[0mcomps\u001b[0m \u001b[0;34m=\u001b[0m \u001b[0mcomps\u001b[0m\u001b[0;34m.\u001b[0m\u001b[0mastype\u001b[0m\u001b[0;34m(\u001b[0m\u001b[0mobject\u001b[0m\u001b[0;34m)\u001b[0m\u001b[0;34m\u001b[0m\u001b[0;34m\u001b[0m\u001b[0m\n\u001b[1;32m    430\u001b[0m \u001b[0;34m\u001b[0m\u001b[0m\n\u001b[0;32m--> 431\u001b[0;31m     \u001b[0;32mreturn\u001b[0m \u001b[0mf\u001b[0m\u001b[0;34m(\u001b[0m\u001b[0mcomps\u001b[0m\u001b[0;34m,\u001b[0m \u001b[0mvalues\u001b[0m\u001b[0;34m)\u001b[0m\u001b[0;34m\u001b[0m\u001b[0;34m\u001b[0m\u001b[0m\n\u001b[0m\u001b[1;32m    432\u001b[0m \u001b[0;34m\u001b[0m\u001b[0m\n\u001b[1;32m    433\u001b[0m \u001b[0;34m\u001b[0m\u001b[0m\n",
      "\u001b[0;32m~/.pyenv/versions/3.7.2/envs/data-tools/lib/python3.7/site-packages/pandas/core/algorithms.py\u001b[0m in \u001b[0;36m<lambda>\u001b[0;34m(x, y)\u001b[0m\n\u001b[1;32m    410\u001b[0m     \u001b[0;31m# Ensure np.in1d doesn't get object types or it *may* throw an exception\u001b[0m\u001b[0;34m\u001b[0m\u001b[0;34m\u001b[0m\u001b[0;34m\u001b[0m\u001b[0m\n\u001b[1;32m    411\u001b[0m     \u001b[0;32mif\u001b[0m \u001b[0mlen\u001b[0m\u001b[0;34m(\u001b[0m\u001b[0mcomps\u001b[0m\u001b[0;34m)\u001b[0m \u001b[0;34m>\u001b[0m \u001b[0;36m1000000\u001b[0m \u001b[0;32mand\u001b[0m \u001b[0;32mnot\u001b[0m \u001b[0mis_object_dtype\u001b[0m\u001b[0;34m(\u001b[0m\u001b[0mcomps\u001b[0m\u001b[0;34m)\u001b[0m\u001b[0;34m:\u001b[0m\u001b[0;34m\u001b[0m\u001b[0;34m\u001b[0m\u001b[0m\n\u001b[0;32m--> 412\u001b[0;31m         \u001b[0mf\u001b[0m \u001b[0;34m=\u001b[0m \u001b[0;32mlambda\u001b[0m \u001b[0mx\u001b[0m\u001b[0;34m,\u001b[0m \u001b[0my\u001b[0m\u001b[0;34m:\u001b[0m \u001b[0mnp\u001b[0m\u001b[0;34m.\u001b[0m\u001b[0min1d\u001b[0m\u001b[0;34m(\u001b[0m\u001b[0mx\u001b[0m\u001b[0;34m,\u001b[0m \u001b[0my\u001b[0m\u001b[0;34m)\u001b[0m\u001b[0;34m\u001b[0m\u001b[0;34m\u001b[0m\u001b[0m\n\u001b[0m\u001b[1;32m    413\u001b[0m     \u001b[0;32melif\u001b[0m \u001b[0mis_integer_dtype\u001b[0m\u001b[0;34m(\u001b[0m\u001b[0mcomps\u001b[0m\u001b[0;34m)\u001b[0m\u001b[0;34m:\u001b[0m\u001b[0;34m\u001b[0m\u001b[0;34m\u001b[0m\u001b[0m\n\u001b[1;32m    414\u001b[0m         \u001b[0;32mtry\u001b[0m\u001b[0;34m:\u001b[0m\u001b[0;34m\u001b[0m\u001b[0;34m\u001b[0m\u001b[0m\n",
      "\u001b[0;32m~/.pyenv/versions/3.7.2/envs/data-tools/lib/python3.7/site-packages/numpy/lib/arraysetops.py\u001b[0m in \u001b[0;36min1d\u001b[0;34m(ar1, ar2, assume_unique, invert)\u001b[0m\n\u001b[1;32m    572\u001b[0m     \u001b[0;31m# Otherwise use sorting\u001b[0m\u001b[0;34m\u001b[0m\u001b[0;34m\u001b[0m\u001b[0;34m\u001b[0m\u001b[0m\n\u001b[1;32m    573\u001b[0m     \u001b[0;32mif\u001b[0m \u001b[0;32mnot\u001b[0m \u001b[0massume_unique\u001b[0m\u001b[0;34m:\u001b[0m\u001b[0;34m\u001b[0m\u001b[0;34m\u001b[0m\u001b[0m\n\u001b[0;32m--> 574\u001b[0;31m         \u001b[0mar1\u001b[0m\u001b[0;34m,\u001b[0m \u001b[0mrev_idx\u001b[0m \u001b[0;34m=\u001b[0m \u001b[0mnp\u001b[0m\u001b[0;34m.\u001b[0m\u001b[0munique\u001b[0m\u001b[0;34m(\u001b[0m\u001b[0mar1\u001b[0m\u001b[0;34m,\u001b[0m \u001b[0mreturn_inverse\u001b[0m\u001b[0;34m=\u001b[0m\u001b[0;32mTrue\u001b[0m\u001b[0;34m)\u001b[0m\u001b[0;34m\u001b[0m\u001b[0;34m\u001b[0m\u001b[0m\n\u001b[0m\u001b[1;32m    575\u001b[0m         \u001b[0mar2\u001b[0m \u001b[0;34m=\u001b[0m \u001b[0mnp\u001b[0m\u001b[0;34m.\u001b[0m\u001b[0munique\u001b[0m\u001b[0;34m(\u001b[0m\u001b[0mar2\u001b[0m\u001b[0;34m)\u001b[0m\u001b[0;34m\u001b[0m\u001b[0;34m\u001b[0m\u001b[0m\n\u001b[1;32m    576\u001b[0m \u001b[0;34m\u001b[0m\u001b[0m\n",
      "\u001b[0;32m~/.pyenv/versions/3.7.2/envs/data-tools/lib/python3.7/site-packages/numpy/lib/arraysetops.py\u001b[0m in \u001b[0;36munique\u001b[0;34m(ar, return_index, return_inverse, return_counts, axis)\u001b[0m\n\u001b[1;32m    262\u001b[0m     \u001b[0mar\u001b[0m \u001b[0;34m=\u001b[0m \u001b[0mnp\u001b[0m\u001b[0;34m.\u001b[0m\u001b[0masanyarray\u001b[0m\u001b[0;34m(\u001b[0m\u001b[0mar\u001b[0m\u001b[0;34m)\u001b[0m\u001b[0;34m\u001b[0m\u001b[0;34m\u001b[0m\u001b[0m\n\u001b[1;32m    263\u001b[0m     \u001b[0;32mif\u001b[0m \u001b[0maxis\u001b[0m \u001b[0;32mis\u001b[0m \u001b[0;32mNone\u001b[0m\u001b[0;34m:\u001b[0m\u001b[0;34m\u001b[0m\u001b[0;34m\u001b[0m\u001b[0m\n\u001b[0;32m--> 264\u001b[0;31m         \u001b[0mret\u001b[0m \u001b[0;34m=\u001b[0m \u001b[0m_unique1d\u001b[0m\u001b[0;34m(\u001b[0m\u001b[0mar\u001b[0m\u001b[0;34m,\u001b[0m \u001b[0mreturn_index\u001b[0m\u001b[0;34m,\u001b[0m \u001b[0mreturn_inverse\u001b[0m\u001b[0;34m,\u001b[0m \u001b[0mreturn_counts\u001b[0m\u001b[0;34m)\u001b[0m\u001b[0;34m\u001b[0m\u001b[0;34m\u001b[0m\u001b[0m\n\u001b[0m\u001b[1;32m    265\u001b[0m         \u001b[0;32mreturn\u001b[0m \u001b[0m_unpack_tuple\u001b[0m\u001b[0;34m(\u001b[0m\u001b[0mret\u001b[0m\u001b[0;34m)\u001b[0m\u001b[0;34m\u001b[0m\u001b[0;34m\u001b[0m\u001b[0m\n\u001b[1;32m    266\u001b[0m \u001b[0;34m\u001b[0m\u001b[0m\n",
      "\u001b[0;32m~/.pyenv/versions/3.7.2/envs/data-tools/lib/python3.7/site-packages/numpy/lib/arraysetops.py\u001b[0m in \u001b[0;36m_unique1d\u001b[0;34m(ar, return_index, return_inverse, return_counts)\u001b[0m\n\u001b[1;32m    307\u001b[0m \u001b[0;34m\u001b[0m\u001b[0m\n\u001b[1;32m    308\u001b[0m     \u001b[0;32mif\u001b[0m \u001b[0moptional_indices\u001b[0m\u001b[0;34m:\u001b[0m\u001b[0;34m\u001b[0m\u001b[0;34m\u001b[0m\u001b[0m\n\u001b[0;32m--> 309\u001b[0;31m         \u001b[0mperm\u001b[0m \u001b[0;34m=\u001b[0m \u001b[0mar\u001b[0m\u001b[0;34m.\u001b[0m\u001b[0margsort\u001b[0m\u001b[0;34m(\u001b[0m\u001b[0mkind\u001b[0m\u001b[0;34m=\u001b[0m\u001b[0;34m'mergesort'\u001b[0m \u001b[0;32mif\u001b[0m \u001b[0mreturn_index\u001b[0m \u001b[0;32melse\u001b[0m \u001b[0;34m'quicksort'\u001b[0m\u001b[0;34m)\u001b[0m\u001b[0;34m\u001b[0m\u001b[0;34m\u001b[0m\u001b[0m\n\u001b[0m\u001b[1;32m    310\u001b[0m         \u001b[0maux\u001b[0m \u001b[0;34m=\u001b[0m \u001b[0mar\u001b[0m\u001b[0;34m[\u001b[0m\u001b[0mperm\u001b[0m\u001b[0;34m]\u001b[0m\u001b[0;34m\u001b[0m\u001b[0;34m\u001b[0m\u001b[0m\n\u001b[1;32m    311\u001b[0m     \u001b[0;32melse\u001b[0m\u001b[0;34m:\u001b[0m\u001b[0;34m\u001b[0m\u001b[0;34m\u001b[0m\u001b[0m\n",
      "\u001b[0;31mKeyboardInterrupt\u001b[0m: "
     ]
    }
   ],
   "source": [
    "aisle_names = aisles['aisle'].unique()\n",
    "\n",
    "aisle_percent_order = {}\n",
    "\n",
    "for aisle_name in aisle_names:\n",
    "    aisle_id = aisles[aisles['aisle']==aisle_name]['aisle_id'].values[0]\n",
    "    aisle_products = products[products['aisle_id']==aisle_id]\n",
    "    aisle_orders = orders_product_all[orders_product_all['product_id'].isin(aisle_products['product_id'])]\n",
    "    percent_order = round((len(aisle_orders) / len(orders_product_all)) * 100, 2)\n",
    "    aisle_percent_order[aisle_name] = percent_order\n",
    "\n",
    "sorted_aisle_percent_order = sorted(aisle_percent_order.items(), key=lambda kv: kv[1], reverse=True)\n",
    "sorted_aisle_percent_order"
   ]
  },
  {
   "cell_type": "markdown",
   "metadata": {},
   "source": [
    "#### Convert 'sorted_aisle_percent_order' to DataFrame & Write to CSV"
   ]
  },
  {
   "cell_type": "code",
   "execution_count": 156,
   "metadata": {},
   "outputs": [
    {
     "data": {
      "text/html": [
       "<div>\n",
       "<style scoped>\n",
       "    .dataframe tbody tr th:only-of-type {\n",
       "        vertical-align: middle;\n",
       "    }\n",
       "\n",
       "    .dataframe tbody tr th {\n",
       "        vertical-align: top;\n",
       "    }\n",
       "\n",
       "    .dataframe thead th {\n",
       "        text-align: right;\n",
       "    }\n",
       "</style>\n",
       "<table border=\"1\" class=\"dataframe\">\n",
       "  <thead>\n",
       "    <tr style=\"text-align: right;\">\n",
       "      <th></th>\n",
       "      <th>product</th>\n",
       "      <th>percent order</th>\n",
       "    </tr>\n",
       "  </thead>\n",
       "  <tbody>\n",
       "    <tr>\n",
       "      <th>0</th>\n",
       "      <td>fresh fruits</td>\n",
       "      <td>11.21</td>\n",
       "    </tr>\n",
       "    <tr>\n",
       "      <th>1</th>\n",
       "      <td>fresh vegetables</td>\n",
       "      <td>10.55</td>\n",
       "    </tr>\n",
       "    <tr>\n",
       "      <th>2</th>\n",
       "      <td>packaged vegetables fruits</td>\n",
       "      <td>5.45</td>\n",
       "    </tr>\n",
       "    <tr>\n",
       "      <th>3</th>\n",
       "      <td>yogurt</td>\n",
       "      <td>4.46</td>\n",
       "    </tr>\n",
       "    <tr>\n",
       "      <th>4</th>\n",
       "      <td>packaged cheese</td>\n",
       "      <td>3.02</td>\n",
       "    </tr>\n",
       "  </tbody>\n",
       "</table>\n",
       "</div>"
      ],
      "text/plain": [
       "                      product  percent order\n",
       "0                fresh fruits          11.21\n",
       "1            fresh vegetables          10.55\n",
       "2  packaged vegetables fruits           5.45\n",
       "3                      yogurt           4.46\n",
       "4             packaged cheese           3.02"
      ]
     },
     "execution_count": 156,
     "metadata": {},
     "output_type": "execute_result"
    }
   ],
   "source": [
    "df = pd.DataFrame(sorted_aisle_percent_order, columns=['product', 'percent order'])\n",
    "df.to_csv('sorted_aisle_percent_order.csv')\n",
    "df.head(5)"
   ]
  },
  {
   "cell_type": "markdown",
   "metadata": {},
   "source": [
    "#### How does product reorder rate differ by aisle? How does Dog Food Care reorders (56.62%) compare?"
   ]
  },
  {
   "cell_type": "code",
   "execution_count": 147,
   "metadata": {},
   "outputs": [
    {
     "data": {
      "text/plain": [
       "[('milk', 78.18),\n",
       " ('water seltzer sparkling water', 72.99),\n",
       " ('fresh fruits', 71.88),\n",
       " ('eggs', 70.64),\n",
       " ('soy lactosefree', 69.24),\n",
       " ('packaged produce', 69.2),\n",
       " ('yogurt', 68.65),\n",
       " ('cream', 68.52),\n",
       " ('bread', 67.06),\n",
       " ('refrigerated', 66.3),\n",
       " ('breakfast bakery', 65.13),\n",
       " ('energy sports drinks', 64.95),\n",
       " ('soft drinks', 63.93),\n",
       " ('packaged vegetables fruits', 63.93),\n",
       " ('white wines', 63.19),\n",
       " ('frozen breakfast', 62.72),\n",
       " ('cat food care', 62.23),\n",
       " ('trail mix snack mix', 62.09),\n",
       " ('prepared meals', 62.03),\n",
       " ('bulk dried fruits vegetables', 61.98),\n",
       " ('coffee', 61.95),\n",
       " ('poultry counter', 61.38),\n",
       " ('tofu meat alternatives', 60.95),\n",
       " ('fresh dips tapenades', 60.83),\n",
       " ('lunch meat', 60.66),\n",
       " ('packaged poultry', 60.08),\n",
       " ('granola', 59.87),\n",
       " ('energy granola bars', 59.8),\n",
       " ('prepared soups salads', 59.66),\n",
       " ('fresh vegetables', 59.51),\n",
       " ('fruit vegetable snacks', 59.28),\n",
       " ('juice nectars', 59.25),\n",
       " ('popcorn jerky', 59.21),\n",
       " ('chips pretzels', 58.91),\n",
       " ('baby food formula', 58.9),\n",
       " ('breakfast bars pastries', 58.67),\n",
       " ('packaged cheese', 58.57),\n",
       " ('frozen pizza', 58.2),\n",
       " ('butter', 57.71),\n",
       " ('candy chocolate', 57.3),\n",
       " ('spirits', 57.28),\n",
       " ('cereal', 57.22),\n",
       " ('crackers', 56.99),\n",
       " ('beers coolers', 56.69),\n",
       " ('dog food care', 56.62),\n",
       " ('other creams cheeses', 56.59),\n",
       " ('canned fruit applesauce', 56.3),\n",
       " ('mint gum', 56.14),\n",
       " ('frozen meals', 55.87),\n",
       " ('hot dogs bacon sausage', 55.7),\n",
       " ('refrigerated pudding desserts', 55.36),\n",
       " ('tortillas flat bread', 55.16),\n",
       " ('baby accessories', 55.15),\n",
       " ('red wines', 55.0),\n",
       " ('cookies cakes', 54.93),\n",
       " ('frozen vegan vegetarian', 54.45),\n",
       " ('packaged meat', 54.28),\n",
       " ('frozen produce', 54.23),\n",
       " ('frozen breads doughs', 54.01),\n",
       " ('meat counter', 53.39),\n",
       " ('bulk grains rice dried goods', 53.38),\n",
       " ('buns rolls', 53.14),\n",
       " ('frozen meat seafood', 53.06),\n",
       " ('paper goods', 52.9),\n",
       " ('tea', 52.76),\n",
       " ('frozen appetizers sides', 52.65),\n",
       " ('nuts seeds dried fruit', 51.94),\n",
       " ('fresh herbs', 51.75),\n",
       " ('seafood counter', 51.73),\n",
       " ('diapers wipes', 51.01),\n",
       " ('packaged seafood', 50.89),\n",
       " ('canned meals beans', 50.6),\n",
       " ('protein meal replacements', 50.59),\n",
       " ('fresh pasta', 50.57),\n",
       " ('hot cereal pancake mixes', 49.97),\n",
       " ('bakery desserts', 49.94),\n",
       " ('ice cream ice', 49.16),\n",
       " ('instant foods', 49.02),\n",
       " ('specialty cheeses', 48.98),\n",
       " ('spreads', 48.79),\n",
       " ('specialty wines champagnes', 48.73),\n",
       " ('pasta sauce', 48.03),\n",
       " ('canned meat seafood', 47.89),\n",
       " ('preserved dips spreads', 47.0),\n",
       " ('dry pasta', 45.44),\n",
       " ('frozen juice', 45.21),\n",
       " ('pickled goods olives', 44.87),\n",
       " ('digestion', 44.59),\n",
       " ('plates bowls cups flatware', 44.07),\n",
       " ('frozen dessert', 42.26),\n",
       " ('canned jarred vegetables', 42.25),\n",
       " ('soup broth bouillon', 42.24),\n",
       " ('laundry', 40.75),\n",
       " ('other', 40.71),\n",
       " ('cocoa drink mixes', 40.7),\n",
       " ('indian foods', 40.4),\n",
       " ('grains rice dried goods', 39.9),\n",
       " ('latino foods', 39.86),\n",
       " ('kosher foods', 39.84),\n",
       " ('missing', 39.43),\n",
       " ('dish detergents', 39.38),\n",
       " ('doughs gelatins bake mixes', 39.38),\n",
       " ('honeys syrups nectars', 35.96),\n",
       " ('oils vinegars', 35.17),\n",
       " ('asian foods', 35.13),\n",
       " ('muscles joints pain relief', 34.34),\n",
       " ('salad dressing toppings', 34.21),\n",
       " ('trash bags liners', 33.7),\n",
       " ('body lotions soap', 33.04),\n",
       " ('oral hygiene', 32.33),\n",
       " ('feminine care', 32.15),\n",
       " ('soap', 32.02),\n",
       " ('facial care', 31.85),\n",
       " ('vitamins supplements', 31.22),\n",
       " ('air fresheners candles', 31.07),\n",
       " ('condiments', 30.99),\n",
       " ('baking ingredients', 30.54),\n",
       " ('baby bath body care', 29.48),\n",
       " ('cleaning products', 28.99),\n",
       " ('marinades meat preparation', 28.13),\n",
       " ('ice cream toppings', 26.82),\n",
       " ('shave needs', 26.33),\n",
       " ('food storage', 25.54),\n",
       " ('more household', 25.01),\n",
       " ('hair care', 24.68),\n",
       " ('skin care', 24.28),\n",
       " ('deodorants', 23.88),\n",
       " ('cold flu allergy', 23.53),\n",
       " ('eye ear care', 22.05),\n",
       " ('beauty', 21.29),\n",
       " ('first aid', 19.59),\n",
       " ('kitchen supplies', 19.48),\n",
       " ('baking supplies decor', 16.76),\n",
       " ('spices seasonings', 15.29)]"
      ]
     },
     "execution_count": 147,
     "metadata": {},
     "output_type": "execute_result"
    }
   ],
   "source": [
    "aisle_percent_reorder = {}\n",
    "\n",
    "for aisle_name in aisle_names:\n",
    "    aisle_id = aisles[aisles['aisle']==aisle_name]['aisle_id'].values[0]\n",
    "    aisle_products = products[products['aisle_id']==aisle_id]\n",
    "    aisle_orders = orders_product_all[orders_product_all['product_id'].isin(aisle_products['product_id'])]\n",
    "    aisle_reorders = aisle_orders[aisle_orders['reordered']==1]\n",
    "    percent_reorder = round((len(aisle_reorders) / len(aisle_orders)) * 100, 2)\n",
    "    aisle_percent_reorder[aisle_name] = percent_reorder\n",
    "\n",
    "sorted_aisle_percent_reorder = sorted(aisle_percent_reorder.items(), key=lambda kv: kv[1], reverse=True)\n",
    "sorted_aisle_percent_reorder"
   ]
  },
  {
   "cell_type": "markdown",
   "metadata": {},
   "source": [
    "#### Convert 'sorted_aisle_percent_reorder' to DataFrame & Write to CSV"
   ]
  },
  {
   "cell_type": "code",
   "execution_count": 152,
   "metadata": {},
   "outputs": [],
   "source": [
    "df = pd.DataFrame(sorted_aisle_percent_reorder, columns=['product', 'percent re-order'])\n",
    "df.to_csv('sorted_aisle_percent_reorder.csv')"
   ]
  },
  {
   "cell_type": "code",
   "execution_count": 153,
   "metadata": {
    "scrolled": true
   },
   "outputs": [
    {
     "data": {
      "text/html": [
       "<div>\n",
       "<style scoped>\n",
       "    .dataframe tbody tr th:only-of-type {\n",
       "        vertical-align: middle;\n",
       "    }\n",
       "\n",
       "    .dataframe tbody tr th {\n",
       "        vertical-align: top;\n",
       "    }\n",
       "\n",
       "    .dataframe thead th {\n",
       "        text-align: right;\n",
       "    }\n",
       "</style>\n",
       "<table border=\"1\" class=\"dataframe\">\n",
       "  <thead>\n",
       "    <tr style=\"text-align: right;\">\n",
       "      <th></th>\n",
       "      <th>product</th>\n",
       "      <th>percent re-order</th>\n",
       "    </tr>\n",
       "  </thead>\n",
       "  <tbody>\n",
       "    <tr>\n",
       "      <th>0</th>\n",
       "      <td>milk</td>\n",
       "      <td>78.18</td>\n",
       "    </tr>\n",
       "    <tr>\n",
       "      <th>1</th>\n",
       "      <td>water seltzer sparkling water</td>\n",
       "      <td>72.99</td>\n",
       "    </tr>\n",
       "    <tr>\n",
       "      <th>2</th>\n",
       "      <td>fresh fruits</td>\n",
       "      <td>71.88</td>\n",
       "    </tr>\n",
       "    <tr>\n",
       "      <th>3</th>\n",
       "      <td>eggs</td>\n",
       "      <td>70.64</td>\n",
       "    </tr>\n",
       "    <tr>\n",
       "      <th>4</th>\n",
       "      <td>soy lactosefree</td>\n",
       "      <td>69.24</td>\n",
       "    </tr>\n",
       "  </tbody>\n",
       "</table>\n",
       "</div>"
      ],
      "text/plain": [
       "                         product  percent re-order\n",
       "0                           milk             78.18\n",
       "1  water seltzer sparkling water             72.99\n",
       "2                   fresh fruits             71.88\n",
       "3                           eggs             70.64\n",
       "4                soy lactosefree             69.24"
      ]
     },
     "execution_count": 153,
     "metadata": {},
     "output_type": "execute_result"
    }
   ],
   "source": [
    "df.head()"
   ]
  },
  {
   "cell_type": "markdown",
   "metadata": {},
   "source": [
    "#### Consolidate dog order information:"
   ]
  },
  {
   "cell_type": "code",
   "execution_count": 190,
   "metadata": {},
   "outputs": [],
   "source": [
    "dog_orders_merge = dog_orders.merge(orders, how='inner', on='order_id')\n",
    "dog_orders_merge_2 = dog_orders_merge.merge(dog_aisle_products, how='inner', on='product_id')"
   ]
  },
  {
   "cell_type": "code",
   "execution_count": 191,
   "metadata": {},
   "outputs": [
    {
     "data": {
      "text/html": [
       "<div>\n",
       "<style scoped>\n",
       "    .dataframe tbody tr th:only-of-type {\n",
       "        vertical-align: middle;\n",
       "    }\n",
       "\n",
       "    .dataframe tbody tr th {\n",
       "        vertical-align: top;\n",
       "    }\n",
       "\n",
       "    .dataframe thead th {\n",
       "        text-align: right;\n",
       "    }\n",
       "</style>\n",
       "<table border=\"1\" class=\"dataframe\">\n",
       "  <thead>\n",
       "    <tr style=\"text-align: right;\">\n",
       "      <th></th>\n",
       "      <th>order_id</th>\n",
       "      <th>product_id</th>\n",
       "      <th>add_to_cart_order</th>\n",
       "      <th>reordered</th>\n",
       "      <th>user_id</th>\n",
       "      <th>eval_set</th>\n",
       "      <th>order_number</th>\n",
       "      <th>order_dow</th>\n",
       "      <th>order_hour_of_day</th>\n",
       "      <th>days_since_prior_order</th>\n",
       "      <th>product_name</th>\n",
       "      <th>aisle_id</th>\n",
       "      <th>department_id</th>\n",
       "    </tr>\n",
       "  </thead>\n",
       "  <tbody>\n",
       "    <tr>\n",
       "      <th>0</th>\n",
       "      <td>12</td>\n",
       "      <td>43511</td>\n",
       "      <td>15</td>\n",
       "      <td>0</td>\n",
       "      <td>152610</td>\n",
       "      <td>prior</td>\n",
       "      <td>22</td>\n",
       "      <td>6</td>\n",
       "      <td>8</td>\n",
       "      <td>10.0</td>\n",
       "      <td>Sunrise Grilled Steak and Eggs Canine Cuisine ...</td>\n",
       "      <td>40</td>\n",
       "      <td>8</td>\n",
       "    </tr>\n",
       "    <tr>\n",
       "      <th>1</th>\n",
       "      <td>24991</td>\n",
       "      <td>43511</td>\n",
       "      <td>11</td>\n",
       "      <td>1</td>\n",
       "      <td>112149</td>\n",
       "      <td>prior</td>\n",
       "      <td>9</td>\n",
       "      <td>3</td>\n",
       "      <td>18</td>\n",
       "      <td>7.0</td>\n",
       "      <td>Sunrise Grilled Steak and Eggs Canine Cuisine ...</td>\n",
       "      <td>40</td>\n",
       "      <td>8</td>\n",
       "    </tr>\n",
       "    <tr>\n",
       "      <th>2</th>\n",
       "      <td>41236</td>\n",
       "      <td>43511</td>\n",
       "      <td>17</td>\n",
       "      <td>0</td>\n",
       "      <td>290</td>\n",
       "      <td>prior</td>\n",
       "      <td>1</td>\n",
       "      <td>6</td>\n",
       "      <td>11</td>\n",
       "      <td>NaN</td>\n",
       "      <td>Sunrise Grilled Steak and Eggs Canine Cuisine ...</td>\n",
       "      <td>40</td>\n",
       "      <td>8</td>\n",
       "    </tr>\n",
       "    <tr>\n",
       "      <th>3</th>\n",
       "      <td>47940</td>\n",
       "      <td>43511</td>\n",
       "      <td>20</td>\n",
       "      <td>1</td>\n",
       "      <td>290</td>\n",
       "      <td>prior</td>\n",
       "      <td>19</td>\n",
       "      <td>6</td>\n",
       "      <td>10</td>\n",
       "      <td>7.0</td>\n",
       "      <td>Sunrise Grilled Steak and Eggs Canine Cuisine ...</td>\n",
       "      <td>40</td>\n",
       "      <td>8</td>\n",
       "    </tr>\n",
       "    <tr>\n",
       "      <th>4</th>\n",
       "      <td>67116</td>\n",
       "      <td>43511</td>\n",
       "      <td>1</td>\n",
       "      <td>1</td>\n",
       "      <td>166595</td>\n",
       "      <td>prior</td>\n",
       "      <td>3</td>\n",
       "      <td>0</td>\n",
       "      <td>20</td>\n",
       "      <td>21.0</td>\n",
       "      <td>Sunrise Grilled Steak and Eggs Canine Cuisine ...</td>\n",
       "      <td>40</td>\n",
       "      <td>8</td>\n",
       "    </tr>\n",
       "  </tbody>\n",
       "</table>\n",
       "</div>"
      ],
      "text/plain": [
       "   order_id  product_id  add_to_cart_order  reordered  user_id eval_set  \\\n",
       "0        12       43511                 15          0   152610    prior   \n",
       "1     24991       43511                 11          1   112149    prior   \n",
       "2     41236       43511                 17          0      290    prior   \n",
       "3     47940       43511                 20          1      290    prior   \n",
       "4     67116       43511                  1          1   166595    prior   \n",
       "\n",
       "   order_number  order_dow  order_hour_of_day  days_since_prior_order  \\\n",
       "0            22          6                  8                    10.0   \n",
       "1             9          3                 18                     7.0   \n",
       "2             1          6                 11                     NaN   \n",
       "3            19          6                 10                     7.0   \n",
       "4             3          0                 20                    21.0   \n",
       "\n",
       "                                        product_name  aisle_id  department_id  \n",
       "0  Sunrise Grilled Steak and Eggs Canine Cuisine ...        40              8  \n",
       "1  Sunrise Grilled Steak and Eggs Canine Cuisine ...        40              8  \n",
       "2  Sunrise Grilled Steak and Eggs Canine Cuisine ...        40              8  \n",
       "3  Sunrise Grilled Steak and Eggs Canine Cuisine ...        40              8  \n",
       "4  Sunrise Grilled Steak and Eggs Canine Cuisine ...        40              8  "
      ]
     },
     "execution_count": 191,
     "metadata": {},
     "output_type": "execute_result"
    }
   ],
   "source": [
    "dog_orders_merge_2.head()"
   ]
  },
  {
   "cell_type": "markdown",
   "metadata": {},
   "source": [
    "#### What were the top 25 Dog Food Care products in terms of sales quantity?\n",
    "(Interesting to note that 'Standard Size Pet Waste bags' is in this aisle)"
   ]
  },
  {
   "cell_type": "code",
   "execution_count": 268,
   "metadata": {
    "scrolled": false
   },
   "outputs": [
    {
     "data": {
      "text/plain": [
       "product_name\n",
       "Small Dog Biscuits                                                    688\n",
       "Snack Sticks Chicken & Rice Recipe Dog Treats                         686\n",
       "Organix Chicken & Brown Rice Recipe                                   675\n",
       "Good Buddy Beef Jerky Dog Treat                                       650\n",
       "Chicken & Vegetable Snack Sticks for Dogs                             632\n",
       "Organix Grain Free Chicken & Vegetable Dog Food                       597\n",
       "Select Tender Chicken with Vegetables & Brown Rice Dog Food Recipe    540\n",
       "Standard Size Pet Waste bags                                          540\n",
       "Beef Stew Canned Dog Food                                             495\n",
       "Organix Butcher & Bushel Grain-Free Turkey Dinner Canned Dog Food     430\n",
       "Good Buddy USA Rawhide Braid Dog Chews                                426\n",
       "Spots Stew Chicken Dry Dog Food                                       387\n",
       "Filet Mignon Canine Cuisine Wet Dog Food                              377\n",
       "Organix Grain Free Turkey & Vegetable Dog Food                        367\n",
       "Chicken Stew Natural Food for Dogs                                    365\n",
       "Premium Dog Treats Peanut Butter Flavor, Medium Size                  359\n",
       "Organix Butcher & Bushel Grain-Free Tender Chicken Canned Dog Food    349\n",
       "Original Beef Flavor Dog Snacks                                       348\n",
       "Spot's Stew Salmon Dry Dog Food                                       333\n",
       "Strips Bacon Flavor Bacon Dog Snacks                                  333\n",
       "Organix Butcher & Bushel Grain Free Shredded Chicken Dog Food         328\n",
       "Core Original Grain Free Dry Dog Food                                 325\n",
       "5 Meaty Flavors Variety Dog Snacks                                    311\n",
       "Dog Snacks, Medium                                                    310\n",
       "Chunky Beef with Vegetables & Brown Rice Dog Food                     297\n",
       "Name: product_name, dtype: int64"
      ]
     },
     "execution_count": 268,
     "metadata": {},
     "output_type": "execute_result"
    }
   ],
   "source": [
    "top_dog_products = dog_orders_merge_2.groupby('product_name')['product_name'].count().sort_values(ascending=False)\n",
    "top_dog_products[0:25]"
   ]
  },
  {
   "cell_type": "markdown",
   "metadata": {},
   "source": [
    "#### What is the percent reorder for 'Standard Size Pet Waste bags'?"
   ]
  },
  {
   "cell_type": "code",
   "execution_count": 301,
   "metadata": {},
   "outputs": [
    {
     "name": "stdout",
     "output_type": "stream",
     "text": [
      "47.22% of \"Standard Size Pet Waste bags\" were reorders\n"
     ]
    }
   ],
   "source": [
    "num_waste_bag_orders = len(dog_orders_merge_2[(dog_orders_merge_2['product_name']=='Standard Size Pet Waste bags')])\n",
    "num_waste_bag_reorders = len(dog_orders_merge_2[(dog_orders_merge_2['product_name']=='Standard Size Pet Waste bags') & (dog_orders_merge_2['reordered']==1)])\n",
    "percent_waste_bag_reorders = (num_waste_bag_reorders/num_waste_bag_orders) * 100\n",
    "print(f'{percent_waste_bag_reorders:.2f}% of \"Standard Size Pet Waste bags\" were reorders')"
   ]
  },
  {
   "cell_type": "markdown",
   "metadata": {},
   "source": [
    "#### Find percent distribution of sale quantity between 'food', 'treats', and 'chews' in the top 'n' dog food care products."
   ]
  },
  {
   "cell_type": "code",
   "execution_count": 295,
   "metadata": {
    "scrolled": true
   },
   "outputs": [
    {
     "name": "stdout",
     "output_type": "stream",
     "text": [
      "\"Food\" Dog Food Care products make up 52.00% of the top 25 Dog Food Care products sold (13) total.\n",
      "\"Treat\" Dog Food Care products make up 12.00% of the top 25 Dog Food Care products sold (3) total.\n",
      "\"Chew\" Dog Food Care products make up 4.00% of the top 25 Dog Food Care products sold (1) total.\n",
      "\"Snack\" Dog Food Care products make up 24.00% of the top 25 Dog Food Care products sold (6) total.\n",
      "\"Biscuit\" Dog Food Care products make up 4.00% of the top 25 Dog Food Care products sold (1) total.\n"
     ]
    }
   ],
   "source": [
    "dog_food_care_product_types = ['Food', 'Treat', 'Chew', 'Snack', 'Biscuit']\n",
    "n = 25\n",
    "top_n_products = top_dog_products[0:n]\n",
    "for product_type in dog_food_care_product_types:\n",
    "    num_type = len(top_n_products[top_n_products.index.str.contains(product_type)])\n",
    "    percent = (num_type / n) * 100\n",
    "    print(f'\"{product_type}\" Dog Food Care products make up {percent:.2f}% of the top {n} Dog Food Care products sold ({num_type}) total.')"
   ]
  },
  {
   "cell_type": "markdown",
   "metadata": {},
   "source": [
    "#### What other products are people buying with Dog Food Care products?"
   ]
  },
  {
   "cell_type": "code",
   "execution_count": 337,
   "metadata": {
    "scrolled": true
   },
   "outputs": [
    {
     "data": {
      "text/plain": [
       "product_name\n",
       "Banana                                  3849\n",
       "Bag of Organic Bananas                  3016\n",
       "Organic Hass Avocado                    1795\n",
       "Organic Strawberries                    1714\n",
       "Organic Baby Spinach                    1369\n",
       "Large Lemon                             1348\n",
       "Organic Avocado                         1128\n",
       "Limes                                   1128\n",
       "Strawberries                            1100\n",
       "Organic Raspberries                     1079\n",
       "Organic Yellow Onion                     859\n",
       "Cucumber Kirby                           806\n",
       "Organic Lemon                            753\n",
       "Organic Garlic                           725\n",
       "Organic Whole Milk                       687\n",
       "Organic Large Extra Fancy Fuji Apple     681\n",
       "Organic Half & Half                      672\n",
       "Organic Cucumber                         643\n",
       "2% Reduced Fat Milk                      641\n",
       "Sparkling Natural Mineral Water          638\n",
       "Organic Blueberries                      617\n",
       "Apple Honeycrisp Organic                 617\n",
       "Organic Zucchini                         611\n",
       "100% Whole Wheat Bread                   607\n",
       "Blueberries                              603\n",
       "Name: product_name, dtype: int64"
      ]
     },
     "execution_count": 337,
     "metadata": {},
     "output_type": "execute_result"
    }
   ],
   "source": [
    "bought_with_dog_products = orders_product_all[orders_product_all['order_id'].isin(dog_orders['order_id'])]\n",
    "bought_with_dog_products = bought_with_dog_products.merge(products, how='inner', on='product_id')\n",
    "bought_with_dog_products = bought_with_dog_products[~bought_with_dog_products.product_id.isin(dog_aisle_products['product_id'])]\n",
    "bought_with_dog_products.groupby('product_name')['product_name'].count().sort_values(ascending=False)[0:25]"
   ]
  },
  {
   "cell_type": "markdown",
   "metadata": {},
   "source": [
    "#### What was the percentage of 'organic' items purchased with dog food care items?"
   ]
  },
  {
   "cell_type": "code",
   "execution_count": 341,
   "metadata": {},
   "outputs": [
    {
     "name": "stdout",
     "output_type": "stream",
     "text": [
      "22.32% of the products purchased with Dog Food Care products had \"organic\" in the name\n"
     ]
    }
   ],
   "source": [
    "organic_products_bought_with_dog_products = bought_with_dog_products[bought_with_dog_products['product_name'].str.contains('Organic')]\n",
    "percent_organic= (len(organic_products_bought_with_dog_products) / len(bought_with_dog_products)) * 100\n",
    "print(f'{percent_organic:.2f}% of the products purchased with Dog Food Care products had \"organic\" in the name')"
   ]
  },
  {
   "cell_type": "markdown",
   "metadata": {},
   "source": [
    "#### Of the products purchased with Dog Food Care products, what was the distribution across 'aisle'"
   ]
  },
  {
   "cell_type": "code",
   "execution_count": 375,
   "metadata": {},
   "outputs": [
    {
     "name": "stdout",
     "output_type": "stream",
     "text": [
      "Int64Index([24, 83, 123, 120, 21, 115, 107, 84, 37, 31], dtype='int64', name='aisle_id')\n"
     ]
    },
    {
     "data": {
      "text/html": [
       "<div>\n",
       "<style scoped>\n",
       "    .dataframe tbody tr th:only-of-type {\n",
       "        vertical-align: middle;\n",
       "    }\n",
       "\n",
       "    .dataframe tbody tr th {\n",
       "        vertical-align: top;\n",
       "    }\n",
       "\n",
       "    .dataframe thead th {\n",
       "        text-align: right;\n",
       "    }\n",
       "</style>\n",
       "<table border=\"1\" class=\"dataframe\">\n",
       "  <thead>\n",
       "    <tr style=\"text-align: right;\">\n",
       "      <th></th>\n",
       "      <th>aisle</th>\n",
       "    </tr>\n",
       "    <tr>\n",
       "      <th>aisle_id</th>\n",
       "      <th></th>\n",
       "    </tr>\n",
       "  </thead>\n",
       "  <tbody>\n",
       "    <tr>\n",
       "      <th>24</th>\n",
       "      <td>fresh fruits</td>\n",
       "    </tr>\n",
       "    <tr>\n",
       "      <th>83</th>\n",
       "      <td>fresh vegetables</td>\n",
       "    </tr>\n",
       "    <tr>\n",
       "      <th>123</th>\n",
       "      <td>packaged vegetables fruits</td>\n",
       "    </tr>\n",
       "    <tr>\n",
       "      <th>120</th>\n",
       "      <td>yogurt</td>\n",
       "    </tr>\n",
       "    <tr>\n",
       "      <th>21</th>\n",
       "      <td>packaged cheese</td>\n",
       "    </tr>\n",
       "    <tr>\n",
       "      <th>115</th>\n",
       "      <td>water seltzer sparkling water</td>\n",
       "    </tr>\n",
       "    <tr>\n",
       "      <th>107</th>\n",
       "      <td>chips pretzels</td>\n",
       "    </tr>\n",
       "    <tr>\n",
       "      <th>84</th>\n",
       "      <td>milk</td>\n",
       "    </tr>\n",
       "    <tr>\n",
       "      <th>37</th>\n",
       "      <td>ice cream ice</td>\n",
       "    </tr>\n",
       "    <tr>\n",
       "      <th>31</th>\n",
       "      <td>refrigerated</td>\n",
       "    </tr>\n",
       "  </tbody>\n",
       "</table>\n",
       "</div>"
      ],
      "text/plain": [
       "                                  aisle\n",
       "aisle_id                               \n",
       "24                         fresh fruits\n",
       "83                     fresh vegetables\n",
       "123          packaged vegetables fruits\n",
       "120                              yogurt\n",
       "21                      packaged cheese\n",
       "115       water seltzer sparkling water\n",
       "107                      chips pretzels\n",
       "84                                 milk\n",
       "37                        ice cream ice\n",
       "31                         refrigerated"
      ]
     },
     "execution_count": 375,
     "metadata": {},
     "output_type": "execute_result"
    }
   ],
   "source": [
    "top_aisle_ids = bought_with_dog_products.groupby('aisle_id')['aisle_id'].count().sort_values(ascending=False)[0:10].index\n",
    "related_aisles = aisles[aisles['aisle_id'].isin(top_aisle_ids)]\n",
    "related_aisles = related_aisles.set_index('aisle_id')\n",
    "print(top_aisle_ids)\n",
    "related_aisles.reindex(top_aisle_ids)"
   ]
  },
  {
   "cell_type": "markdown",
   "metadata": {},
   "source": [
    "#### Of the products purchased with Dog Food Care products, what was the distribution across 'department'"
   ]
  },
  {
   "cell_type": "code",
   "execution_count": 377,
   "metadata": {},
   "outputs": [
    {
     "name": "stdout",
     "output_type": "stream",
     "text": [
      "Int64Index([4, 16, 7, 19, 1, 13, 17, 3, 15, 20], dtype='int64', name='department_id')\n"
     ]
    },
    {
     "data": {
      "text/html": [
       "<div>\n",
       "<style scoped>\n",
       "    .dataframe tbody tr th:only-of-type {\n",
       "        vertical-align: middle;\n",
       "    }\n",
       "\n",
       "    .dataframe tbody tr th {\n",
       "        vertical-align: top;\n",
       "    }\n",
       "\n",
       "    .dataframe thead th {\n",
       "        text-align: right;\n",
       "    }\n",
       "</style>\n",
       "<table border=\"1\" class=\"dataframe\">\n",
       "  <thead>\n",
       "    <tr style=\"text-align: right;\">\n",
       "      <th></th>\n",
       "      <th>department</th>\n",
       "    </tr>\n",
       "    <tr>\n",
       "      <th>department_id</th>\n",
       "      <th></th>\n",
       "    </tr>\n",
       "  </thead>\n",
       "  <tbody>\n",
       "    <tr>\n",
       "      <th>4</th>\n",
       "      <td>produce</td>\n",
       "    </tr>\n",
       "    <tr>\n",
       "      <th>16</th>\n",
       "      <td>dairy eggs</td>\n",
       "    </tr>\n",
       "    <tr>\n",
       "      <th>7</th>\n",
       "      <td>beverages</td>\n",
       "    </tr>\n",
       "    <tr>\n",
       "      <th>19</th>\n",
       "      <td>snacks</td>\n",
       "    </tr>\n",
       "    <tr>\n",
       "      <th>1</th>\n",
       "      <td>frozen</td>\n",
       "    </tr>\n",
       "    <tr>\n",
       "      <th>13</th>\n",
       "      <td>pantry</td>\n",
       "    </tr>\n",
       "    <tr>\n",
       "      <th>17</th>\n",
       "      <td>household</td>\n",
       "    </tr>\n",
       "    <tr>\n",
       "      <th>3</th>\n",
       "      <td>bakery</td>\n",
       "    </tr>\n",
       "    <tr>\n",
       "      <th>15</th>\n",
       "      <td>canned goods</td>\n",
       "    </tr>\n",
       "    <tr>\n",
       "      <th>20</th>\n",
       "      <td>deli</td>\n",
       "    </tr>\n",
       "  </tbody>\n",
       "</table>\n",
       "</div>"
      ],
      "text/plain": [
       "                 department\n",
       "department_id              \n",
       "4                   produce\n",
       "16               dairy eggs\n",
       "7                 beverages\n",
       "19                   snacks\n",
       "1                    frozen\n",
       "13                   pantry\n",
       "17                household\n",
       "3                    bakery\n",
       "15             canned goods\n",
       "20                     deli"
      ]
     },
     "execution_count": 377,
     "metadata": {},
     "output_type": "execute_result"
    }
   ],
   "source": [
    "top_dept_ids = bought_with_dog_products.groupby('department_id')['department_id'].count().sort_values(ascending=False)[0:10].index\n",
    "related_departments = departments[departments['department_id'].isin(top_dept_ids)]\n",
    "related_departments = related_departments.set_index('department_id')\n",
    "print(top_dept_ids)\n",
    "related_departments.reindex(top_dept_ids)"
   ]
  },
  {
   "cell_type": "markdown",
   "metadata": {},
   "source": [
    "### Data Visualization"
   ]
  },
  {
   "cell_type": "code",
   "execution_count": 192,
   "metadata": {},
   "outputs": [],
   "source": [
    "import seaborn"
   ]
  },
  {
   "cell_type": "code",
   "execution_count": 248,
   "metadata": {},
   "outputs": [],
   "source": [
    "def bar_plot(series):\n",
    "    seaborn.barplot(x=series.index, y=series.values, color='k')"
   ]
  },
  {
   "cell_type": "markdown",
   "metadata": {},
   "source": [
    "#### What days of the week were dog food care products purchased?"
   ]
  },
  {
   "cell_type": "code",
   "execution_count": 249,
   "metadata": {},
   "outputs": [
    {
     "data": {
      "image/png": "[encoded data removed]",
      "text/plain": [
       "<Figure size 432x288 with 1 Axes>"
      ]
     },
     "metadata": {
      "needs_background": "light"
     },
     "output_type": "display_data"
    }
   ],
   "source": [
    "bar_plot(dog_orders_merge_2['order_dow'].value_counts())"
   ]
  },
  {
   "cell_type": "markdown",
   "metadata": {},
   "source": [
    "#### What house of the day were dog food care products purchased?"
   ]
  },
  {
   "cell_type": "code",
   "execution_count": 250,
   "metadata": {
    "scrolled": true
   },
   "outputs": [
    {
     "data": {
      "image/png": "[encoded data removed]",
      "text/plain": [
       "<Figure size 432x288 with 1 Axes>"
      ]
     },
     "metadata": {
      "needs_background": "light"
     },
     "output_type": "display_data"
    }
   ],
   "source": [
    "bar_plot(dog_orders_merge_2['order_hour_of_day'].value_counts())"
   ]
  },
  {
   "cell_type": "markdown",
   "metadata": {},
   "source": [
    "#### Isolating dog food care products with 'Food' in the name"
   ]
  },
  {
   "cell_type": "code",
   "execution_count": 208,
   "metadata": {},
   "outputs": [
    {
     "data": {
      "text/html": [
       "<div>\n",
       "<style scoped>\n",
       "    .dataframe tbody tr th:only-of-type {\n",
       "        vertical-align: middle;\n",
       "    }\n",
       "\n",
       "    .dataframe tbody tr th {\n",
       "        vertical-align: top;\n",
       "    }\n",
       "\n",
       "    .dataframe thead th {\n",
       "        text-align: right;\n",
       "    }\n",
       "</style>\n",
       "<table border=\"1\" class=\"dataframe\">\n",
       "  <thead>\n",
       "    <tr style=\"text-align: right;\">\n",
       "      <th></th>\n",
       "      <th>order_id</th>\n",
       "      <th>product_id</th>\n",
       "      <th>add_to_cart_order</th>\n",
       "      <th>reordered</th>\n",
       "      <th>user_id</th>\n",
       "      <th>eval_set</th>\n",
       "      <th>order_number</th>\n",
       "      <th>order_dow</th>\n",
       "      <th>order_hour_of_day</th>\n",
       "      <th>days_since_prior_order</th>\n",
       "      <th>product_name</th>\n",
       "      <th>aisle_id</th>\n",
       "      <th>department_id</th>\n",
       "    </tr>\n",
       "  </thead>\n",
       "  <tbody>\n",
       "    <tr>\n",
       "      <th>0</th>\n",
       "      <td>12</td>\n",
       "      <td>43511</td>\n",
       "      <td>15</td>\n",
       "      <td>0</td>\n",
       "      <td>152610</td>\n",
       "      <td>prior</td>\n",
       "      <td>22</td>\n",
       "      <td>6</td>\n",
       "      <td>8</td>\n",
       "      <td>10.0</td>\n",
       "      <td>Sunrise Grilled Steak and Eggs Canine Cuisine ...</td>\n",
       "      <td>40</td>\n",
       "      <td>8</td>\n",
       "    </tr>\n",
       "    <tr>\n",
       "      <th>1</th>\n",
       "      <td>24991</td>\n",
       "      <td>43511</td>\n",
       "      <td>11</td>\n",
       "      <td>1</td>\n",
       "      <td>112149</td>\n",
       "      <td>prior</td>\n",
       "      <td>9</td>\n",
       "      <td>3</td>\n",
       "      <td>18</td>\n",
       "      <td>7.0</td>\n",
       "      <td>Sunrise Grilled Steak and Eggs Canine Cuisine ...</td>\n",
       "      <td>40</td>\n",
       "      <td>8</td>\n",
       "    </tr>\n",
       "    <tr>\n",
       "      <th>2</th>\n",
       "      <td>41236</td>\n",
       "      <td>43511</td>\n",
       "      <td>17</td>\n",
       "      <td>0</td>\n",
       "      <td>290</td>\n",
       "      <td>prior</td>\n",
       "      <td>1</td>\n",
       "      <td>6</td>\n",
       "      <td>11</td>\n",
       "      <td>NaN</td>\n",
       "      <td>Sunrise Grilled Steak and Eggs Canine Cuisine ...</td>\n",
       "      <td>40</td>\n",
       "      <td>8</td>\n",
       "    </tr>\n",
       "    <tr>\n",
       "      <th>3</th>\n",
       "      <td>47940</td>\n",
       "      <td>43511</td>\n",
       "      <td>20</td>\n",
       "      <td>1</td>\n",
       "      <td>290</td>\n",
       "      <td>prior</td>\n",
       "      <td>19</td>\n",
       "      <td>6</td>\n",
       "      <td>10</td>\n",
       "      <td>7.0</td>\n",
       "      <td>Sunrise Grilled Steak and Eggs Canine Cuisine ...</td>\n",
       "      <td>40</td>\n",
       "      <td>8</td>\n",
       "    </tr>\n",
       "    <tr>\n",
       "      <th>4</th>\n",
       "      <td>67116</td>\n",
       "      <td>43511</td>\n",
       "      <td>1</td>\n",
       "      <td>1</td>\n",
       "      <td>166595</td>\n",
       "      <td>prior</td>\n",
       "      <td>3</td>\n",
       "      <td>0</td>\n",
       "      <td>20</td>\n",
       "      <td>21.0</td>\n",
       "      <td>Sunrise Grilled Steak and Eggs Canine Cuisine ...</td>\n",
       "      <td>40</td>\n",
       "      <td>8</td>\n",
       "    </tr>\n",
       "  </tbody>\n",
       "</table>\n",
       "</div>"
      ],
      "text/plain": [
       "   order_id  product_id  add_to_cart_order  reordered  user_id eval_set  \\\n",
       "0        12       43511                 15          0   152610    prior   \n",
       "1     24991       43511                 11          1   112149    prior   \n",
       "2     41236       43511                 17          0      290    prior   \n",
       "3     47940       43511                 20          1      290    prior   \n",
       "4     67116       43511                  1          1   166595    prior   \n",
       "\n",
       "   order_number  order_dow  order_hour_of_day  days_since_prior_order  \\\n",
       "0            22          6                  8                    10.0   \n",
       "1             9          3                 18                     7.0   \n",
       "2             1          6                 11                     NaN   \n",
       "3            19          6                 10                     7.0   \n",
       "4             3          0                 20                    21.0   \n",
       "\n",
       "                                        product_name  aisle_id  department_id  \n",
       "0  Sunrise Grilled Steak and Eggs Canine Cuisine ...        40              8  \n",
       "1  Sunrise Grilled Steak and Eggs Canine Cuisine ...        40              8  \n",
       "2  Sunrise Grilled Steak and Eggs Canine Cuisine ...        40              8  \n",
       "3  Sunrise Grilled Steak and Eggs Canine Cuisine ...        40              8  \n",
       "4  Sunrise Grilled Steak and Eggs Canine Cuisine ...        40              8  "
      ]
     },
     "execution_count": 208,
     "metadata": {},
     "output_type": "execute_result"
    }
   ],
   "source": [
    "dog_food_orders_merged = dog_orders_merge_2[dog_orders_merge_2['product_name'].str.contains('Food')]\n",
    "dog_food_orders_merged.head()"
   ]
  },
  {
   "cell_type": "markdown",
   "metadata": {},
   "source": [
    "#### What days of the week were dog food care 'food' products purchased?"
   ]
  },
  {
   "cell_type": "code",
   "execution_count": 254,
   "metadata": {
    "scrolled": true
   },
   "outputs": [
    {
     "data": {
      "image/png": "[encoded data removed]",
      "text/plain": [
       "<Figure size 432x288 with 1 Axes>"
      ]
     },
     "metadata": {
      "needs_background": "light"
     },
     "output_type": "display_data"
    }
   ],
   "source": [
    "bar_plot(dog_food_orders_merged['order_dow'].value_counts())"
   ]
  },
  {
   "cell_type": "markdown",
   "metadata": {},
   "source": [
    "#### What hour of the day were dog food care 'food' products purchased?"
   ]
  },
  {
   "cell_type": "code",
   "execution_count": 252,
   "metadata": {},
   "outputs": [
    {
     "data": {
      "image/png": "[encoded data removed]",
      "text/plain": [
       "<Figure size 432x288 with 1 Axes>"
      ]
     },
     "metadata": {
      "needs_background": "light"
     },
     "output_type": "display_data"
    }
   ],
   "source": [
    "bar_plot(dog_food_orders_merged['order_hour_of_day'].value_counts())"
   ]
  },
  {
   "cell_type": "markdown",
   "metadata": {},
   "source": [
    "#### Isolating dog food care products with 'Chew' in the name"
   ]
  },
  {
   "cell_type": "code",
   "execution_count": 214,
   "metadata": {},
   "outputs": [
    {
     "data": {
      "text/html": [
       "<div>\n",
       "<style scoped>\n",
       "    .dataframe tbody tr th:only-of-type {\n",
       "        vertical-align: middle;\n",
       "    }\n",
       "\n",
       "    .dataframe tbody tr th {\n",
       "        vertical-align: top;\n",
       "    }\n",
       "\n",
       "    .dataframe thead th {\n",
       "        text-align: right;\n",
       "    }\n",
       "</style>\n",
       "<table border=\"1\" class=\"dataframe\">\n",
       "  <thead>\n",
       "    <tr style=\"text-align: right;\">\n",
       "      <th></th>\n",
       "      <th>order_id</th>\n",
       "      <th>product_id</th>\n",
       "      <th>add_to_cart_order</th>\n",
       "      <th>reordered</th>\n",
       "      <th>user_id</th>\n",
       "      <th>eval_set</th>\n",
       "      <th>order_number</th>\n",
       "      <th>order_dow</th>\n",
       "      <th>order_hour_of_day</th>\n",
       "      <th>days_since_prior_order</th>\n",
       "      <th>product_name</th>\n",
       "      <th>aisle_id</th>\n",
       "      <th>department_id</th>\n",
       "    </tr>\n",
       "  </thead>\n",
       "  <tbody>\n",
       "    <tr>\n",
       "      <th>5285</th>\n",
       "      <td>1878</td>\n",
       "      <td>48252</td>\n",
       "      <td>15</td>\n",
       "      <td>0</td>\n",
       "      <td>113643</td>\n",
       "      <td>prior</td>\n",
       "      <td>12</td>\n",
       "      <td>6</td>\n",
       "      <td>12</td>\n",
       "      <td>16.0</td>\n",
       "      <td>Original Soft &amp; Chewy With All Natural Grilled...</td>\n",
       "      <td>40</td>\n",
       "      <td>8</td>\n",
       "    </tr>\n",
       "    <tr>\n",
       "      <th>5286</th>\n",
       "      <td>24796</td>\n",
       "      <td>48252</td>\n",
       "      <td>1</td>\n",
       "      <td>0</td>\n",
       "      <td>35243</td>\n",
       "      <td>prior</td>\n",
       "      <td>1</td>\n",
       "      <td>5</td>\n",
       "      <td>12</td>\n",
       "      <td>NaN</td>\n",
       "      <td>Original Soft &amp; Chewy With All Natural Grilled...</td>\n",
       "      <td>40</td>\n",
       "      <td>8</td>\n",
       "    </tr>\n",
       "    <tr>\n",
       "      <th>5287</th>\n",
       "      <td>441591</td>\n",
       "      <td>48252</td>\n",
       "      <td>30</td>\n",
       "      <td>0</td>\n",
       "      <td>169386</td>\n",
       "      <td>prior</td>\n",
       "      <td>7</td>\n",
       "      <td>1</td>\n",
       "      <td>17</td>\n",
       "      <td>30.0</td>\n",
       "      <td>Original Soft &amp; Chewy With All Natural Grilled...</td>\n",
       "      <td>40</td>\n",
       "      <td>8</td>\n",
       "    </tr>\n",
       "    <tr>\n",
       "      <th>5288</th>\n",
       "      <td>924873</td>\n",
       "      <td>48252</td>\n",
       "      <td>10</td>\n",
       "      <td>0</td>\n",
       "      <td>137195</td>\n",
       "      <td>prior</td>\n",
       "      <td>24</td>\n",
       "      <td>4</td>\n",
       "      <td>17</td>\n",
       "      <td>5.0</td>\n",
       "      <td>Original Soft &amp; Chewy With All Natural Grilled...</td>\n",
       "      <td>40</td>\n",
       "      <td>8</td>\n",
       "    </tr>\n",
       "    <tr>\n",
       "      <th>5289</th>\n",
       "      <td>980554</td>\n",
       "      <td>48252</td>\n",
       "      <td>28</td>\n",
       "      <td>1</td>\n",
       "      <td>169386</td>\n",
       "      <td>prior</td>\n",
       "      <td>9</td>\n",
       "      <td>0</td>\n",
       "      <td>15</td>\n",
       "      <td>30.0</td>\n",
       "      <td>Original Soft &amp; Chewy With All Natural Grilled...</td>\n",
       "      <td>40</td>\n",
       "      <td>8</td>\n",
       "    </tr>\n",
       "  </tbody>\n",
       "</table>\n",
       "</div>"
      ],
      "text/plain": [
       "      order_id  product_id  add_to_cart_order  reordered  user_id eval_set  \\\n",
       "5285      1878       48252                 15          0   113643    prior   \n",
       "5286     24796       48252                  1          0    35243    prior   \n",
       "5287    441591       48252                 30          0   169386    prior   \n",
       "5288    924873       48252                 10          0   137195    prior   \n",
       "5289    980554       48252                 28          1   169386    prior   \n",
       "\n",
       "      order_number  order_dow  order_hour_of_day  days_since_prior_order  \\\n",
       "5285            12          6                 12                    16.0   \n",
       "5286             1          5                 12                     NaN   \n",
       "5287             7          1                 17                    30.0   \n",
       "5288            24          4                 17                     5.0   \n",
       "5289             9          0                 15                    30.0   \n",
       "\n",
       "                                           product_name  aisle_id  \\\n",
       "5285  Original Soft & Chewy With All Natural Grilled...        40   \n",
       "5286  Original Soft & Chewy With All Natural Grilled...        40   \n",
       "5287  Original Soft & Chewy With All Natural Grilled...        40   \n",
       "5288  Original Soft & Chewy With All Natural Grilled...        40   \n",
       "5289  Original Soft & Chewy With All Natural Grilled...        40   \n",
       "\n",
       "      department_id  \n",
       "5285              8  \n",
       "5286              8  \n",
       "5287              8  \n",
       "5288              8  \n",
       "5289              8  "
      ]
     },
     "execution_count": 214,
     "metadata": {},
     "output_type": "execute_result"
    }
   ],
   "source": [
    "dog_chew_orders_merged = dog_orders_merge_2[dog_orders_merge_2['product_name'].str.contains('Chew')]\n",
    "dog_chew_orders_merged.head()"
   ]
  },
  {
   "cell_type": "markdown",
   "metadata": {},
   "source": [
    "#### What days of the week were dog food care 'chew' products purchased?"
   ]
  },
  {
   "cell_type": "code",
   "execution_count": 255,
   "metadata": {},
   "outputs": [
    {
     "data": {
      "image/png": "[encoded data removed]",
      "text/plain": [
       "<Figure size 432x288 with 1 Axes>"
      ]
     },
     "metadata": {
      "needs_background": "light"
     },
     "output_type": "display_data"
    }
   ],
   "source": [
    "bar_plot(dog_chew_orders_merged['order_dow'].value_counts())"
   ]
  },
  {
   "cell_type": "markdown",
   "metadata": {},
   "source": [
    "#### What hour of the day were dog food care 'chew' products purchased?"
   ]
  },
  {
   "cell_type": "code",
   "execution_count": 258,
   "metadata": {},
   "outputs": [
    {
     "data": {
      "image/png": "[encoded data removed]",
      "text/plain": [
       "<Figure size 432x288 with 1 Axes>"
      ]
     },
     "metadata": {
      "needs_background": "light"
     },
     "output_type": "display_data"
    }
   ],
   "source": [
    "bar_plot(dog_chew_orders_merged['order_hour_of_day'].value_counts())"
   ]
  },
  {
   "cell_type": "markdown",
   "metadata": {},
   "source": [
    "#### Isolating dog food care products with 'Treat' in the name"
   ]
  },
  {
   "cell_type": "code",
   "execution_count": 259,
   "metadata": {},
   "outputs": [
    {
     "data": {
      "text/html": [
       "<div>\n",
       "<style scoped>\n",
       "    .dataframe tbody tr th:only-of-type {\n",
       "        vertical-align: middle;\n",
       "    }\n",
       "\n",
       "    .dataframe tbody tr th {\n",
       "        vertical-align: top;\n",
       "    }\n",
       "\n",
       "    .dataframe thead th {\n",
       "        text-align: right;\n",
       "    }\n",
       "</style>\n",
       "<table border=\"1\" class=\"dataframe\">\n",
       "  <thead>\n",
       "    <tr style=\"text-align: right;\">\n",
       "      <th></th>\n",
       "      <th>order_id</th>\n",
       "      <th>product_id</th>\n",
       "      <th>add_to_cart_order</th>\n",
       "      <th>reordered</th>\n",
       "      <th>user_id</th>\n",
       "      <th>eval_set</th>\n",
       "      <th>order_number</th>\n",
       "      <th>order_dow</th>\n",
       "      <th>order_hour_of_day</th>\n",
       "      <th>days_since_prior_order</th>\n",
       "      <th>product_name</th>\n",
       "      <th>aisle_id</th>\n",
       "      <th>department_id</th>\n",
       "    </tr>\n",
       "  </thead>\n",
       "  <tbody>\n",
       "    <tr>\n",
       "      <th>1802</th>\n",
       "      <td>769</td>\n",
       "      <td>4896</td>\n",
       "      <td>4</td>\n",
       "      <td>0</td>\n",
       "      <td>37708</td>\n",
       "      <td>prior</td>\n",
       "      <td>6</td>\n",
       "      <td>4</td>\n",
       "      <td>10</td>\n",
       "      <td>19.0</td>\n",
       "      <td>Premium Dog Treats Peanut Butter Flavor, Mediu...</td>\n",
       "      <td>40</td>\n",
       "      <td>8</td>\n",
       "    </tr>\n",
       "    <tr>\n",
       "      <th>1803</th>\n",
       "      <td>9704</td>\n",
       "      <td>4896</td>\n",
       "      <td>10</td>\n",
       "      <td>0</td>\n",
       "      <td>103546</td>\n",
       "      <td>prior</td>\n",
       "      <td>21</td>\n",
       "      <td>0</td>\n",
       "      <td>10</td>\n",
       "      <td>8.0</td>\n",
       "      <td>Premium Dog Treats Peanut Butter Flavor, Mediu...</td>\n",
       "      <td>40</td>\n",
       "      <td>8</td>\n",
       "    </tr>\n",
       "    <tr>\n",
       "      <th>1804</th>\n",
       "      <td>9891</td>\n",
       "      <td>4896</td>\n",
       "      <td>5</td>\n",
       "      <td>0</td>\n",
       "      <td>69082</td>\n",
       "      <td>prior</td>\n",
       "      <td>17</td>\n",
       "      <td>1</td>\n",
       "      <td>11</td>\n",
       "      <td>0.0</td>\n",
       "      <td>Premium Dog Treats Peanut Butter Flavor, Mediu...</td>\n",
       "      <td>40</td>\n",
       "      <td>8</td>\n",
       "    </tr>\n",
       "    <tr>\n",
       "      <th>1805</th>\n",
       "      <td>12489</td>\n",
       "      <td>4896</td>\n",
       "      <td>2</td>\n",
       "      <td>1</td>\n",
       "      <td>61425</td>\n",
       "      <td>prior</td>\n",
       "      <td>11</td>\n",
       "      <td>0</td>\n",
       "      <td>14</td>\n",
       "      <td>13.0</td>\n",
       "      <td>Premium Dog Treats Peanut Butter Flavor, Mediu...</td>\n",
       "      <td>40</td>\n",
       "      <td>8</td>\n",
       "    </tr>\n",
       "    <tr>\n",
       "      <th>1806</th>\n",
       "      <td>16771</td>\n",
       "      <td>4896</td>\n",
       "      <td>11</td>\n",
       "      <td>0</td>\n",
       "      <td>111880</td>\n",
       "      <td>prior</td>\n",
       "      <td>1</td>\n",
       "      <td>3</td>\n",
       "      <td>16</td>\n",
       "      <td>NaN</td>\n",
       "      <td>Premium Dog Treats Peanut Butter Flavor, Mediu...</td>\n",
       "      <td>40</td>\n",
       "      <td>8</td>\n",
       "    </tr>\n",
       "  </tbody>\n",
       "</table>\n",
       "</div>"
      ],
      "text/plain": [
       "      order_id  product_id  add_to_cart_order  reordered  user_id eval_set  \\\n",
       "1802       769        4896                  4          0    37708    prior   \n",
       "1803      9704        4896                 10          0   103546    prior   \n",
       "1804      9891        4896                  5          0    69082    prior   \n",
       "1805     12489        4896                  2          1    61425    prior   \n",
       "1806     16771        4896                 11          0   111880    prior   \n",
       "\n",
       "      order_number  order_dow  order_hour_of_day  days_since_prior_order  \\\n",
       "1802             6          4                 10                    19.0   \n",
       "1803            21          0                 10                     8.0   \n",
       "1804            17          1                 11                     0.0   \n",
       "1805            11          0                 14                    13.0   \n",
       "1806             1          3                 16                     NaN   \n",
       "\n",
       "                                           product_name  aisle_id  \\\n",
       "1802  Premium Dog Treats Peanut Butter Flavor, Mediu...        40   \n",
       "1803  Premium Dog Treats Peanut Butter Flavor, Mediu...        40   \n",
       "1804  Premium Dog Treats Peanut Butter Flavor, Mediu...        40   \n",
       "1805  Premium Dog Treats Peanut Butter Flavor, Mediu...        40   \n",
       "1806  Premium Dog Treats Peanut Butter Flavor, Mediu...        40   \n",
       "\n",
       "      department_id  \n",
       "1802              8  \n",
       "1803              8  \n",
       "1804              8  \n",
       "1805              8  \n",
       "1806              8  "
      ]
     },
     "execution_count": 259,
     "metadata": {},
     "output_type": "execute_result"
    }
   ],
   "source": [
    "dog_treat_orders_merged = dog_orders_merge_2[dog_orders_merge_2['product_name'].str.contains('Treat')]\n",
    "dog_treat_orders_merged.head()"
   ]
  },
  {
   "cell_type": "code",
   "execution_count": 260,
   "metadata": {},
   "outputs": [
    {
     "data": {
      "image/png": "[encoded data removed]",
      "text/plain": [
       "<Figure size 432x288 with 1 Axes>"
      ]
     },
     "metadata": {
      "needs_background": "light"
     },
     "output_type": "display_data"
    }
   ],
   "source": [
    "bar_plot(dog_treat_orders_merged['order_dow'].value_counts())"
   ]
  },
  {
   "cell_type": "code",
   "execution_count": 261,
   "metadata": {},
   "outputs": [
    {
     "data": {
      "image/png": "[encoded data removed]",
      "text/plain": [
       "<Figure size 432x288 with 1 Axes>"
      ]
     },
     "metadata": {
      "needs_background": "light"
     },
     "output_type": "display_data"
    }
   ],
   "source": [
    "bar_plot(dog_treat_orders_merged['order_hour_of_day'].value_counts())"
   ]
  }
 ],
 "metadata": {
  "kernelspec": {
   "display_name": "Python 3",
   "language": "python",
   "name": "python3"
  },
  "language_info": {
   "codemirror_mode": {
    "name": "ipython",
    "version": 3
   },
   "file_extension": ".py",
   "mimetype": "text/x-python",
   "name": "python",
   "nbconvert_exporter": "python",
   "pygments_lexer": "ipython3",
   "version": "3.7.2"
  }
 },
 "nbformat": 4,
 "nbformat_minor": 2
}
